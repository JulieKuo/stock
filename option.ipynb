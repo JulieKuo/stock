{
 "cells": [
  {
   "cell_type": "code",
   "execution_count": 1,
   "metadata": {},
   "outputs": [],
   "source": [
    "import pandas as pd\n",
    "import numpy as np\n",
    "from tqdm import tqdm"
   ]
  },
  {
   "cell_type": "code",
   "execution_count": 2,
   "metadata": {},
   "outputs": [
    {
     "name": "stdout",
     "output_type": "stream",
     "text": [
      "(2069610, 7)\n"
     ]
    },
    {
     "data": {
      "text/html": [
       "<div>\n",
       "<style scoped>\n",
       "    .dataframe tbody tr th:only-of-type {\n",
       "        vertical-align: middle;\n",
       "    }\n",
       "\n",
       "    .dataframe tbody tr th {\n",
       "        vertical-align: top;\n",
       "    }\n",
       "\n",
       "    .dataframe thead th {\n",
       "        text-align: right;\n",
       "    }\n",
       "</style>\n",
       "<table border=\"1\" class=\"dataframe\">\n",
       "  <thead>\n",
       "    <tr style=\"text-align: right;\">\n",
       "      <th></th>\n",
       "      <th>date</th>\n",
       "      <th>Symbol</th>\n",
       "      <th>Open</th>\n",
       "      <th>High</th>\n",
       "      <th>Low</th>\n",
       "      <th>Close</th>\n",
       "      <th>TotalVolume</th>\n",
       "    </tr>\n",
       "  </thead>\n",
       "  <tbody>\n",
       "    <tr>\n",
       "      <th>0</th>\n",
       "      <td>2010-01-04 08:46:00</td>\n",
       "      <td>TXF1</td>\n",
       "      <td>8203.0</td>\n",
       "      <td>8208.0</td>\n",
       "      <td>8184.0</td>\n",
       "      <td>8189.0</td>\n",
       "      <td>1125</td>\n",
       "    </tr>\n",
       "    <tr>\n",
       "      <th>1</th>\n",
       "      <td>2010-01-04 08:47:00</td>\n",
       "      <td>TXF1</td>\n",
       "      <td>8188.0</td>\n",
       "      <td>8195.0</td>\n",
       "      <td>8186.0</td>\n",
       "      <td>8193.0</td>\n",
       "      <td>411</td>\n",
       "    </tr>\n",
       "    <tr>\n",
       "      <th>2</th>\n",
       "      <td>2010-01-04 08:48:00</td>\n",
       "      <td>TXF1</td>\n",
       "      <td>8194.0</td>\n",
       "      <td>8201.0</td>\n",
       "      <td>8193.0</td>\n",
       "      <td>8201.0</td>\n",
       "      <td>422</td>\n",
       "    </tr>\n",
       "    <tr>\n",
       "      <th>3</th>\n",
       "      <td>2010-01-04 08:49:00</td>\n",
       "      <td>TXF1</td>\n",
       "      <td>8201.0</td>\n",
       "      <td>8203.0</td>\n",
       "      <td>8198.0</td>\n",
       "      <td>8201.0</td>\n",
       "      <td>297</td>\n",
       "    </tr>\n",
       "    <tr>\n",
       "      <th>4</th>\n",
       "      <td>2010-01-04 08:50:00</td>\n",
       "      <td>TXF1</td>\n",
       "      <td>8199.0</td>\n",
       "      <td>8200.0</td>\n",
       "      <td>8195.0</td>\n",
       "      <td>8197.0</td>\n",
       "      <td>189</td>\n",
       "    </tr>\n",
       "  </tbody>\n",
       "</table>\n",
       "</div>"
      ],
      "text/plain": [
       "                 date Symbol    Open    High     Low   Close  TotalVolume\n",
       "0 2010-01-04 08:46:00   TXF1  8203.0  8208.0  8184.0  8189.0         1125\n",
       "1 2010-01-04 08:47:00   TXF1  8188.0  8195.0  8186.0  8193.0          411\n",
       "2 2010-01-04 08:48:00   TXF1  8194.0  8201.0  8193.0  8201.0          422\n",
       "3 2010-01-04 08:49:00   TXF1  8201.0  8203.0  8198.0  8201.0          297\n",
       "4 2010-01-04 08:50:00   TXF1  8199.0  8200.0  8195.0  8197.0          189"
      ]
     },
     "execution_count": 2,
     "metadata": {},
     "output_type": "execute_result"
    }
   ],
   "source": [
    "# df = pd.read_csv(\"data/TXF1-Tick-Trade.txt\", parse_dates = {\"date\": [\"Date\", \"Time\"]})\n",
    "df = pd.read_csv(\"data/TXF1-KWAY64V2-TAIFEX-Futures-Minute-Trade.txt\", parse_dates = {\"date\": [\"Date\", \"Time\"]})\n",
    "print(df.shape)\n",
    "df.head()"
   ]
  },
  {
   "cell_type": "code",
   "execution_count": 3,
   "metadata": {},
   "outputs": [
    {
     "name": "stdout",
     "output_type": "stream",
     "text": [
      "(953624, 6)\n"
     ]
    },
    {
     "data": {
      "text/html": [
       "<div>\n",
       "<style scoped>\n",
       "    .dataframe tbody tr th:only-of-type {\n",
       "        vertical-align: middle;\n",
       "    }\n",
       "\n",
       "    .dataframe tbody tr th {\n",
       "        vertical-align: top;\n",
       "    }\n",
       "\n",
       "    .dataframe thead th {\n",
       "        text-align: right;\n",
       "    }\n",
       "</style>\n",
       "<table border=\"1\" class=\"dataframe\">\n",
       "  <thead>\n",
       "    <tr style=\"text-align: right;\">\n",
       "      <th></th>\n",
       "      <th>date</th>\n",
       "      <th>open</th>\n",
       "      <th>high</th>\n",
       "      <th>low</th>\n",
       "      <th>close</th>\n",
       "      <th>volume</th>\n",
       "    </tr>\n",
       "  </thead>\n",
       "  <tbody>\n",
       "    <tr>\n",
       "      <th>0</th>\n",
       "      <td>2010-01-04 08:46:00</td>\n",
       "      <td>8203.0</td>\n",
       "      <td>8208.0</td>\n",
       "      <td>8184.0</td>\n",
       "      <td>8189.0</td>\n",
       "      <td>1125</td>\n",
       "    </tr>\n",
       "    <tr>\n",
       "      <th>1</th>\n",
       "      <td>2010-01-04 08:47:00</td>\n",
       "      <td>8188.0</td>\n",
       "      <td>8195.0</td>\n",
       "      <td>8186.0</td>\n",
       "      <td>8193.0</td>\n",
       "      <td>411</td>\n",
       "    </tr>\n",
       "    <tr>\n",
       "      <th>2</th>\n",
       "      <td>2010-01-04 08:48:00</td>\n",
       "      <td>8194.0</td>\n",
       "      <td>8201.0</td>\n",
       "      <td>8193.0</td>\n",
       "      <td>8201.0</td>\n",
       "      <td>422</td>\n",
       "    </tr>\n",
       "    <tr>\n",
       "      <th>3</th>\n",
       "      <td>2010-01-04 08:49:00</td>\n",
       "      <td>8201.0</td>\n",
       "      <td>8203.0</td>\n",
       "      <td>8198.0</td>\n",
       "      <td>8201.0</td>\n",
       "      <td>297</td>\n",
       "    </tr>\n",
       "    <tr>\n",
       "      <th>4</th>\n",
       "      <td>2010-01-04 08:50:00</td>\n",
       "      <td>8199.0</td>\n",
       "      <td>8200.0</td>\n",
       "      <td>8195.0</td>\n",
       "      <td>8197.0</td>\n",
       "      <td>189</td>\n",
       "    </tr>\n",
       "  </tbody>\n",
       "</table>\n",
       "</div>"
      ],
      "text/plain": [
       "                 date    open    high     low   close  volume\n",
       "0 2010-01-04 08:46:00  8203.0  8208.0  8184.0  8189.0    1125\n",
       "1 2010-01-04 08:47:00  8188.0  8195.0  8186.0  8193.0     411\n",
       "2 2010-01-04 08:48:00  8194.0  8201.0  8193.0  8201.0     422\n",
       "3 2010-01-04 08:49:00  8201.0  8203.0  8198.0  8201.0     297\n",
       "4 2010-01-04 08:50:00  8199.0  8200.0  8195.0  8197.0     189"
      ]
     },
     "execution_count": 3,
     "metadata": {},
     "output_type": "execute_result"
    }
   ],
   "source": [
    "df[\"time\"] = df[\"date\"].dt.time\n",
    "df[\"time\"] = df[\"time\"].astype(str).str.replace(\":\", \"\")\n",
    "df[\"day_night\"] = df.eval(\"(time >= '084500') & (time < '134500')\")\n",
    "df = df[df[\"day_night\"]].reset_index(drop = True)\n",
    "\n",
    "# df[\"Price\"] = df[\"Price\"].astype(int)\n",
    "\n",
    "df = df.drop([\"Symbol\", \"time\", \"day_night\"], axis = 1)\n",
    "df.columns = [\"date\", \"open\", \"high\", \"low\", \"close\", \"volume\"]\n",
    "\n",
    "print(df.shape)\n",
    "df.head()"
   ]
  },
  {
   "attachments": {},
   "cell_type": "markdown",
   "metadata": {},
   "source": [
    "df = df.groupby(\"date\").agg({\"Price\": [\"first\", \"max\", \"min\", \"last\"], \"Volume\": \"sum\"})\n",
    "df.columns = [\"open\", \"high\", \"low\", \"close\", \"volume\"]\n",
    "df = df.reset_index()\n",
    "df = df.sort_values(\"date\").reset_index(drop = True)\n",
    "#df.to_excel(\"data/TICKS_day_min.xlsx\", index = False)\n",
    "df"
   ]
  },
  {
   "attachments": {},
   "cell_type": "markdown",
   "metadata": {},
   "source": [
    "#### 策略\n",
    "該秒成交量超過100口的情況，接下來\"十秒內\"  \n",
    "跌破該秒低點->做空  \n",
    "超過該秒高點->做多  \n",
    "同時突破 -> 不做  \n",
    "\n",
    "* 一次只做一口 (Done)\n",
    "* 若已經持倉就不做任何動作 (Done)\n",
    "* 不留倉->收盤價清倉 (Done)\n",
    "* 如果手上有多/空單，但觸發空/多單訊號的->收盤價平倉 (Done)\n",
    "\n",
    "測試:  \n",
    "停利60、停損20  \n",
    "090500 - 132459"
   ]
  },
  {
   "cell_type": "code",
   "execution_count": 4,
   "metadata": {},
   "outputs": [
    {
     "name": "stdout",
     "output_type": "stream",
     "text": [
      "(953624, 7)\n"
     ]
    },
    {
     "data": {
      "text/html": [
       "<div>\n",
       "<style scoped>\n",
       "    .dataframe tbody tr th:only-of-type {\n",
       "        vertical-align: middle;\n",
       "    }\n",
       "\n",
       "    .dataframe tbody tr th {\n",
       "        vertical-align: top;\n",
       "    }\n",
       "\n",
       "    .dataframe thead th {\n",
       "        text-align: right;\n",
       "    }\n",
       "</style>\n",
       "<table border=\"1\" class=\"dataframe\">\n",
       "  <thead>\n",
       "    <tr style=\"text-align: right;\">\n",
       "      <th></th>\n",
       "      <th>date</th>\n",
       "      <th>open</th>\n",
       "      <th>high</th>\n",
       "      <th>low</th>\n",
       "      <th>close</th>\n",
       "      <th>volume</th>\n",
       "      <th>vol_1500</th>\n",
       "    </tr>\n",
       "  </thead>\n",
       "  <tbody>\n",
       "    <tr>\n",
       "      <th>0</th>\n",
       "      <td>2010-01-04 08:46:00</td>\n",
       "      <td>8203.0</td>\n",
       "      <td>8208.0</td>\n",
       "      <td>8184.0</td>\n",
       "      <td>8189.0</td>\n",
       "      <td>1125</td>\n",
       "      <td>0</td>\n",
       "    </tr>\n",
       "    <tr>\n",
       "      <th>1</th>\n",
       "      <td>2010-01-04 08:47:00</td>\n",
       "      <td>8188.0</td>\n",
       "      <td>8195.0</td>\n",
       "      <td>8186.0</td>\n",
       "      <td>8193.0</td>\n",
       "      <td>411</td>\n",
       "      <td>0</td>\n",
       "    </tr>\n",
       "    <tr>\n",
       "      <th>2</th>\n",
       "      <td>2010-01-04 08:48:00</td>\n",
       "      <td>8194.0</td>\n",
       "      <td>8201.0</td>\n",
       "      <td>8193.0</td>\n",
       "      <td>8201.0</td>\n",
       "      <td>422</td>\n",
       "      <td>0</td>\n",
       "    </tr>\n",
       "    <tr>\n",
       "      <th>3</th>\n",
       "      <td>2010-01-04 08:49:00</td>\n",
       "      <td>8201.0</td>\n",
       "      <td>8203.0</td>\n",
       "      <td>8198.0</td>\n",
       "      <td>8201.0</td>\n",
       "      <td>297</td>\n",
       "      <td>0</td>\n",
       "    </tr>\n",
       "    <tr>\n",
       "      <th>4</th>\n",
       "      <td>2010-01-04 08:50:00</td>\n",
       "      <td>8199.0</td>\n",
       "      <td>8200.0</td>\n",
       "      <td>8195.0</td>\n",
       "      <td>8197.0</td>\n",
       "      <td>189</td>\n",
       "      <td>0</td>\n",
       "    </tr>\n",
       "  </tbody>\n",
       "</table>\n",
       "</div>"
      ],
      "text/plain": [
       "                 date    open    high     low   close  volume  vol_1500\n",
       "0 2010-01-04 08:46:00  8203.0  8208.0  8184.0  8189.0    1125         0\n",
       "1 2010-01-04 08:47:00  8188.0  8195.0  8186.0  8193.0     411         0\n",
       "2 2010-01-04 08:48:00  8194.0  8201.0  8193.0  8201.0     422         0\n",
       "3 2010-01-04 08:49:00  8201.0  8203.0  8198.0  8201.0     297         0\n",
       "4 2010-01-04 08:50:00  8199.0  8200.0  8195.0  8197.0     189         0"
      ]
     },
     "execution_count": 4,
     "metadata": {},
     "output_type": "execute_result"
    }
   ],
   "source": [
    "volume = 1500\n",
    "df[f\"vol_{volume}\"] = (df[\"volume\"] > volume).astype(int)\n",
    "print(df.shape)\n",
    "df.head()"
   ]
  },
  {
   "cell_type": "code",
   "execution_count": 5,
   "metadata": {},
   "outputs": [
    {
     "name": "stderr",
     "output_type": "stream",
     "text": [
      "100%|██████████| 953624/953624 [00:12<00:00, 75583.07it/s] \n"
     ]
    }
   ],
   "source": [
    "period = 10\n",
    "for i in tqdm(range(len(df))):\n",
    "    if df.loc[i, f\"vol_{volume}\"] == 1:\n",
    "        df.loc[i+1:i+period, \"prev_time\"] =  df.loc[i, \"date\"]\n",
    "        df.loc[i+1:i+period, \"prev_high\"] = df.loc[i, \"high\"]\n",
    "        df.loc[i+1:i+period, \"prev_low\"] = df.loc[i, \"low\"]"
   ]
  },
  {
   "cell_type": "code",
   "execution_count": 6,
   "metadata": {},
   "outputs": [],
   "source": [
    "df[\"break_high\"] = df.eval(\"high > prev_high\").astype(int)\n",
    "df[\"break_low\"] = df.eval(\"low < prev_low\").astype(int)"
   ]
  },
  {
   "cell_type": "code",
   "execution_count": 7,
   "metadata": {},
   "outputs": [
    {
     "name": "stderr",
     "output_type": "stream",
     "text": [
      "100%|██████████| 953624/953624 [00:26<00:00, 35856.19it/s]\n"
     ]
    }
   ],
   "source": [
    "for i in tqdm(range(len(df))):\n",
    "    if (df.loc[i, \"break_high\"] == 1) & (df.loc[i, \"break_low\"] == 0):\n",
    "        df.loc[i, \"direction\"] = \"long\"\n",
    "        \n",
    "    elif  (df.loc[i, \"break_high\"] == 0) & (df.loc[i, \"break_low\"] == 1):\n",
    "        df.loc[i, \"direction\"] = \"short\""
   ]
  },
  {
   "cell_type": "code",
   "execution_count": 8,
   "metadata": {},
   "outputs": [],
   "source": [
    "df.insert(1, \"time\", df[\"date\"].dt.time.astype(str).str.replace(\":\", \"\"))"
   ]
  },
  {
   "cell_type": "code",
   "execution_count": 9,
   "metadata": {},
   "outputs": [
    {
     "name": "stderr",
     "output_type": "stream",
     "text": [
      "100%|██████████| 953623/953623 [04:37<00:00, 3435.06it/s] \n"
     ]
    }
   ],
   "source": [
    "hold = 0\n",
    "slippage = 2\n",
    "fee = 2\n",
    "profit_limit = 60\n",
    "loss_limit = 20\n",
    "start_time = \"090500\" # \"084500\" \"090500\"\n",
    "end_time = \"132459\" # \"134459\" \"132459\"\n",
    "\n",
    "adjust_cost = slippage + fee\n",
    "df[\"hold_time\"] = None\n",
    "df[[\"hold\", \"long\", \"short\", \"cost\", \"profit\", \"loss\", \"offset\", \"clear\", \"win\", \"net\"]] = 0\n",
    "\n",
    "for i in tqdm(range(1, len(df))):\n",
    "    if (df.loc[i, \"time\"] >= start_time) & (df.loc[i, \"time\"] <= end_time):\n",
    "        # 持有損益\n",
    "        if (hold == 1):\n",
    "            if df.loc[i-1, \"long\"] == 1:\n",
    "                df.loc[i, \"hold_time\"] = df.loc[i-1, \"hold_time\"]\n",
    "                df.loc[i, \"hold\"] = hold\n",
    "                df.loc[i, \"long\"] = 1\n",
    "                df.loc[i, \"cost\"] = df.loc[i-1, \"cost\"]\n",
    "\n",
    "                df.loc[i, \"profit\"] = max(df.loc[i, \"high\"] - df.loc[i, \"cost\"], 0)\n",
    "                df.loc[i, \"loss\"] = max(df.loc[i, \"cost\"] - df.loc[i, \"low\"], 0)\n",
    "\n",
    "            elif df.loc[i-1, \"short\"] == 1:\n",
    "                df.loc[i, \"hold_time\"] = df.loc[i-1, \"hold_time\"]\n",
    "                df.loc[i, \"hold\"] = hold\n",
    "                df.loc[i, \"short\"] = 1\n",
    "                df.loc[i, \"cost\"] = df.loc[i-1, \"cost\"]\n",
    "\n",
    "                df.loc[i, \"profit\"] = max(df.loc[i, \"cost\"] - df.loc[i, \"low\"], 0)\n",
    "                df.loc[i, \"loss\"] = max(df.loc[i, \"high\"] - df.loc[i, \"cost\"], 0)\n",
    "        # 觸發操作\n",
    "        else:         \n",
    "            if df.loc[i, \"direction\"] == \"long\":\n",
    "                hold = 1\n",
    "                df.loc[i, \"hold_time\"] = df.loc[i, \"date\"]\n",
    "                df.loc[i, \"hold\"] = hold\n",
    "                df.loc[i, \"long\"] = 1\n",
    "                df.loc[i, \"cost\"] = df.loc[i, \"high\"]\n",
    "                \n",
    "                df.loc[i, \"profit\"] = max(df.loc[i, \"high\"] - df.loc[i, \"cost\"], 0)\n",
    "                df.loc[i, \"loss\"] = max(df.loc[i, \"cost\"] - df.loc[i, \"low\"], 0)\n",
    "                \n",
    "            elif df.loc[i, \"direction\"] == \"short\":\n",
    "                hold = 1\n",
    "                df.loc[i, \"hold_time\"] = df.loc[i, \"date\"]\n",
    "                df.loc[i, \"hold\"] = hold\n",
    "                df.loc[i, \"short\"] = 1\n",
    "                df.loc[i, \"cost\"] = df.loc[i, \"low\"]\n",
    "                \n",
    "                df.loc[i, \"profit\"] = max(df.loc[i, \"cost\"] - df.loc[i, \"low\"], 0)\n",
    "                df.loc[i, \"loss\"] = max(df.loc[i, \"high\"] - df.loc[i, \"cost\"], 0)\n",
    "        \n",
    "\n",
    "        if  (hold == 1):\n",
    "            if (df.loc[i, \"profit\"] >= profit_limit):# 停利\n",
    "                df.loc[i, \"win\"] = 1\n",
    "                df.loc[i, \"net\"] = profit_limit\n",
    "                hold = 0\n",
    "                \n",
    "            elif (df.loc[i, \"loss\"] >= loss_limit): # 停損\n",
    "                df.loc[i, \"win\"] = -1\n",
    "                df.loc[i, \"net\"] = -loss_limit\n",
    "                hold = 0\n",
    "\n",
    "            elif (df.loc[i, \"long\"] == 1) & (df.loc[i, \"direction\"] == \"short\"): # 多單平倉\n",
    "                df.loc[i, \"offset\"] = 1\n",
    "                df.loc[i, \"net\"] = df.loc[i, \"close\"] - df.loc[i, \"cost\"]\n",
    "                df.loc[i, \"win\"] = 1 if df.loc[i, \"net\"] > 0 else -1\n",
    "                hold = 0\n",
    "            elif (df.loc[i, \"short\"] == 1) & (df.loc[i, \"direction\"] == \"long\"): # 空單平倉\n",
    "                df.loc[i, \"offset\"] = 1\n",
    "                df.loc[i, \"net\"] = df.loc[i, \"cost\"] - df.loc[i, \"close\"]\n",
    "                df.loc[i, \"win\"] = 1 if df.loc[i, \"net\"] > 0 else -1\n",
    "                hold = 0\n",
    "\n",
    "    else:\n",
    "        # 清倉\n",
    "        if (hold == 1):\n",
    "            df.loc[i-1, \"clear\"] = 1\n",
    "            if df.loc[i-1, \"long\"] == 1:\n",
    "                df.loc[i-1, \"net\"] = df.loc[i-1, \"close\"] - df.loc[i-1, \"cost\"]\n",
    "            elif df.loc[i-1, \"short\"] == 1:\n",
    "                df.loc[i-1, \"net\"] = df.loc[i-1, \"cost\"] - df.loc[i-1, \"close\"]\n",
    "\n",
    "            df.loc[i-1, \"win\"] = 1 if df.loc[i-1, \"net\"] > 0 else -1\n",
    "            \n",
    "            hold = 0\n",
    "            \n",
    "df60_20_090500_132459 = df.copy()"
   ]
  },
  {
   "cell_type": "code",
   "execution_count": 10,
   "metadata": {},
   "outputs": [],
   "source": [
    "dfs = [\n",
    "    [df60_20_090500_132459, \"停利60、停損20、090500-132459\"],\n",
    "    ]"
   ]
  },
  {
   "cell_type": "code",
   "execution_count": 11,
   "metadata": {},
   "outputs": [
    {
     "data": {
      "text/html": [
       "<div>\n",
       "<style scoped>\n",
       "    .dataframe tbody tr th:only-of-type {\n",
       "        vertical-align: middle;\n",
       "    }\n",
       "\n",
       "    .dataframe tbody tr th {\n",
       "        vertical-align: top;\n",
       "    }\n",
       "\n",
       "    .dataframe thead th {\n",
       "        text-align: right;\n",
       "    }\n",
       "</style>\n",
       "<table border=\"1\" class=\"dataframe\">\n",
       "  <thead>\n",
       "    <tr style=\"text-align: right;\">\n",
       "      <th></th>\n",
       "      <th>win</th>\n",
       "      <th>lose</th>\n",
       "      <th>total</th>\n",
       "      <th>total_net</th>\n",
       "    </tr>\n",
       "  </thead>\n",
       "  <tbody>\n",
       "    <tr>\n",
       "      <th>停利60、停損20、090500-132459</th>\n",
       "      <td>3372</td>\n",
       "      <td>11593</td>\n",
       "      <td>14965</td>\n",
       "      <td>-113894</td>\n",
       "    </tr>\n",
       "  </tbody>\n",
       "</table>\n",
       "</div>"
      ],
      "text/plain": [
       "                          win   lose  total  total_net\n",
       "停利60、停損20、090500-132459  3372  11593  14965    -113894"
      ]
     },
     "execution_count": 11,
     "metadata": {},
     "output_type": "execute_result"
    }
   ],
   "source": [
    "counts = pd.DataFrame()\n",
    "for df, name in dfs:\n",
    "    count = pd.DataFrame(df[\"win\"].value_counts().loc[[1, -1]]).T\n",
    "    count.index = [name]\n",
    "    count.columns = [\"win\", \"lose\"]\n",
    "    count[\"total\"] =  count.sum(axis = 1)\n",
    "    count[\"total_net\"] = df[\"net\"].sum()\n",
    "    counts = pd.concat([counts, count])\n",
    "counts"
   ]
  },
  {
   "cell_type": "code",
   "execution_count": 12,
   "metadata": {},
   "outputs": [],
   "source": [
    "with pd.ExcelWriter(\"data/strategy1.xlsx\") as writer:\n",
    "    counts.to_excel(writer, sheet_name = \"統計\")\n",
    "    for df, name in dfs:\n",
    "        df.to_excel(writer, sheet_name = name)"
   ]
  },
  {
   "cell_type": "markdown",
   "metadata": {},
   "source": [
    "show_col = [\n",
    "    'date', 'open', 'high', 'low', 'close', 'volume', 'direction', 'hold_time', 'hold', 'long', 'short', 'cost', 'profit',\n",
    "    'loss', 'offset', 'clear', 'win', 'net'\n",
    "    ]"
   ]
  },
  {
   "cell_type": "markdown",
   "metadata": {},
   "source": [
    "df.query(\"(time > '132459') & (hold == 1)\")[show_col]"
   ]
  },
  {
   "cell_type": "markdown",
   "metadata": {},
   "source": [
    "df[show_col].query(\"win == 1\")"
   ]
  },
  {
   "cell_type": "markdown",
   "metadata": {},
   "source": [
    "df[show_col].query(\"win == -1\")"
   ]
  },
  {
   "cell_type": "markdown",
   "metadata": {},
   "source": [
    "df[show_col].query(\"clear == 1\")"
   ]
  },
  {
   "cell_type": "markdown",
   "metadata": {},
   "source": [
    "df[show_col].query(\"offset == 1\")"
   ]
  },
  {
   "cell_type": "code",
   "execution_count": null,
   "metadata": {},
   "outputs": [],
   "source": []
  },
  {
   "cell_type": "code",
   "execution_count": null,
   "metadata": {},
   "outputs": [],
   "source": []
  }
 ],
 "metadata": {
  "kernelspec": {
   "display_name": ".venv",
   "language": "python",
   "name": "python3"
  },
  "language_info": {
   "codemirror_mode": {
    "name": "ipython",
    "version": 3
   },
   "file_extension": ".py",
   "mimetype": "text/x-python",
   "name": "python",
   "nbconvert_exporter": "python",
   "pygments_lexer": "ipython3",
   "version": "3.8.10"
  },
  "orig_nbformat": 4,
  "vscode": {
   "interpreter": {
    "hash": "6a07fcf0145f94b3f971c13d061528107de20ab7b779375f96dab9bbac6a85db"
   }
  }
 },
 "nbformat": 4,
 "nbformat_minor": 2
}
