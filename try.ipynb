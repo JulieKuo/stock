{
 "cells": [
  {
   "cell_type": "code",
   "execution_count": null,
   "metadata": {},
   "outputs": [],
   "source": [
    "import requests\n",
    "from io import StringIO\n",
    "import pandas as pd\n",
    "from chinese_calendar import is_workday\n",
    "import time, random, json, datetime\n",
    "from tqdm import tqdm"
   ]
  },
  {
   "cell_type": "code",
   "execution_count": null,
   "metadata": {},
   "outputs": [],
   "source": [
    "start = \"2022-09-01\"\n",
    "end = \"2022-09-22\"\n",
    "mode = \"all\""
   ]
  },
  {
   "cell_type": "code",
   "execution_count": null,
   "metadata": {},
   "outputs": [],
   "source": [
    "# def get_chip_data(self, start = \"2022-09-17\", end = \"2022-09-22\", mode = \"all\"):\n",
    "# 取得時間區間內的所有工作日\n",
    "start = datetime.datetime.strptime(start, \"%Y-%m-%d\")\n",
    "end = datetime.datetime.strptime(end, \"%Y-%m-%d\")\n",
    "\n",
    "dates = pd.date_range(start, end)\n",
    "work = [is_workday(date) for date in dates]\n",
    "dates = dates[work]\n",
    "dates_str = [datetime.datetime.strftime(date, \"%Y%m%d\") for date in dates]\n",
    "\n",
    "\n",
    "# 獲取三大法人資訊\n",
    "df1_1 = pd.DataFrame()\n",
    "df2_1 = pd.DataFrame()\n",
    "features = ['Date', '證券代號', '證券名稱', '外資(不含外資自營)', '外資自營', '外資', '投信', '自營(自行買賣)', '自營(避險)', '自營', '三大法人']\n",
    "no_data = str()\n",
    "\n",
    "print(f\"{'-'*30} Get chips data. {'-'*30}\")\n",
    "for i in range(len(dates)):\n",
    "    print(dates[i])\n",
    "    # 上市資料\n",
    "    if (mode == \"all\") or (mode == \"listed\"):\n",
    "        r = requests.get(f\"http://www.tse.com.tw/fund/T86?response=csv&date={dates_str[i]}&selectType=ALLBUT0999\")\n",
    "\n",
    "        if r.text == \"\\r\\n\":\n",
    "            no_data += f\"{dates[i]} doesn't have data.\\n\"\n",
    "            continue\n",
    "\n",
    "        df1_0 = pd.read_csv(StringIO(r.text), header = 1, thousands = \",\")\n",
    "        df1_0 = df1_0.dropna(how='all', axis=1).dropna(how='any') # 刪除\n",
    "        df1_0.insert(0, \"Date\", dates[i])\n",
    "\n",
    "        df1_1 = pd.concat([df1_1, df1_0], ignore_index = True)\n",
    "\n",
    "        time.sleep(random.uniform(0, 0.5))\n",
    "\n",
    "\n",
    "    # 上櫃資料\n",
    "    if (mode == \"all\") or (mode == \"opt\"):\n",
    "        ## 上櫃日期由西元轉換為民國\n",
    "        year = dates[i].year - 1911 # 民國\n",
    "        month = dates[i].month\n",
    "        month = (\"0\" + str(month)) if len(str(month)) == 1 else month\n",
    "        day = dates[i].day\n",
    "        date = f\"{year}/{month}/{day}\"\n",
    "\n",
    "\n",
    "        r = requests.get(f\"http://www.tpex.org.tw/web/stock/3insti/daily_trade/3itrade_hedge_result.php?l=zh-tw&se=AL&t=D&d={date}\")\n",
    "\n",
    "        data = json.loads(r.text)\n",
    "        df2_0 = pd.DataFrame(data[\"aaData\"])\n",
    "        df2_0.insert(0, \"Date\", dates[i])\n",
    "        \n",
    "        df2_1 = pd.concat([df2_1, df2_0], ignore_index = True)\n",
    "        \n",
    "        time.sleep(random.uniform(0, 0.5))\n",
    "\n",
    "\n",
    "# 資料清洗\n",
    "print(f\"{'-'*30} Clean data. {'-'*30}\")\n",
    "## 上市\n",
    "if (mode == \"all\") or (mode == \"listed\"):\n",
    "    df1_1 = df1_1[['Date', '證券代號', '證券名稱', '外陸資買賣超股數(不含外資自營商)', '外資自營商買賣超股數', '投信買賣超股數', '自營商買賣超股數(自行買賣)', '自營商買賣超股數(避險)', '自營商買賣超股數', '三大法人買賣超股數']]\n",
    "    df1_1.insert(5, \"外資買賣超股數\", (df1_1[\"外陸資買賣超股數(不含外資自營商)\"] + df1_1[\"外資自營商買賣超股數\"]))\n",
    "    df1_1.columns = features\n",
    "\n",
    "    df1_1['證券代號'] = df1_1['證券代號'].apply(lambda X: X.replace('=', '').replace('\"', ''))\n",
    "\n",
    "## 上櫃\n",
    "if (mode == \"all\") or (mode == \"opt\"):\n",
    "    df2_1 = df2_1.iloc[:, [0, 1, 2, 5, 8, 11, 14, 17, 20, 23, 24]]\n",
    "    df2_1.columns = features\n",
    "\n",
    "    df2_1.iloc[:, 3:] = df2_1.iloc[:, 3:].applymap(lambda X: int(X.replace(\",\", \"\")))\n",
    "\n",
    "df = pd.concat([df1_1, df2_1], ignore_index = True)\n",
    "df = df.sort_values(\"Date\")\n",
    "df = df.reset_index(drop = True)\n",
    "\n",
    "# return df\n",
    "df"
   ]
  },
  {
   "cell_type": "code",
   "execution_count": null,
   "metadata": {},
   "outputs": [],
   "source": []
  },
  {
   "cell_type": "code",
   "execution_count": null,
   "metadata": {},
   "outputs": [],
   "source": []
  },
  {
   "cell_type": "code",
   "execution_count": null,
   "metadata": {},
   "outputs": [],
   "source": []
  },
  {
   "cell_type": "code",
   "execution_count": null,
   "metadata": {},
   "outputs": [],
   "source": [
    "import stock_data as stock\n",
    "\n",
    "scrapy = stock.Scrapy()\n",
    "df = scrapy.get_chip_data(start = \"2022-09-01\", end = \"2022-09-22\", mode = \"all\")\n",
    "df"
   ]
  },
  {
   "cell_type": "code",
   "execution_count": null,
   "metadata": {},
   "outputs": [],
   "source": []
  }
 ],
 "metadata": {
  "kernelspec": {
   "display_name": "Python 3.8.10 ('.venv': venv)",
   "language": "python",
   "name": "python3"
  },
  "language_info": {
   "codemirror_mode": {
    "name": "ipython",
    "version": 3
   },
   "file_extension": ".py",
   "mimetype": "text/x-python",
   "name": "python",
   "nbconvert_exporter": "python",
   "pygments_lexer": "ipython3",
   "version": "3.8.10"
  },
  "orig_nbformat": 4,
  "vscode": {
   "interpreter": {
    "hash": "6c2898c30be5f73b03e044cf4b0ab3750666a8191d61a4c93b022a132c823988"
   }
  }
 },
 "nbformat": 4,
 "nbformat_minor": 2
}
