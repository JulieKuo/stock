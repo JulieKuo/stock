{
 "cells": [
  {
   "cell_type": "code",
   "execution_count": 1,
   "metadata": {},
   "outputs": [],
   "source": [
    "import pandas as pd\n",
    "import history_data as hd"
   ]
  },
  {
   "cell_type": "code",
   "execution_count": 2,
   "metadata": {},
   "outputs": [],
   "source": [
    "def calculate_return(df):\n",
    "    # 標的分組計算後合併\n",
    "    g = df.groupby(\"Symbol\")\n",
    "    df2 = pd.DataFrame()\n",
    "    for symbol in g.size().keys():\n",
    "        df1 = g.get_group(symbol).copy()\n",
    "        df1[\"Close_last\"] = df1[\"Close\"].shift(1)\n",
    "        df1[\"Volume_last\"] = df1[\"Volume\"].shift(1)\n",
    "        df1[\"Close_return\"] = df1.eval(\"((Close - Close_last) / Close_last) * 100\").round(2)\n",
    "        df1[\"Volume_return\"] = df1.eval(\"Volume / Volume_last\")\n",
    "        df1 = df1.dropna()\n",
    "        df2 = pd.concat([df2, df1], ignore_index = True)\n",
    "        \n",
    "    df2 = df2[[\"Symbol\", \"Date\", \"Close\", \"Close_return\", \"Volume\", \"Volume_return\"]]\n",
    "    df2 = df2.sort_values([\"Symbol\", \"Date\"])\n",
    "    \n",
    "    return df2"
   ]
  },
  {
   "cell_type": "code",
   "execution_count": 3,
   "metadata": {},
   "outputs": [
    {
     "name": "stdout",
     "output_type": "stream",
     "text": [
      "------------------------------ Get ticker. ------------------------------\n"
     ]
    }
   ],
   "source": [
    "start = \"2021-01-01\"\n",
    "end = \"2021-12-31\"\n",
    "mode = \"listed\"\n",
    "\n",
    "scrapy = hd.scrapy()\n",
    "df0 = scrapy.get_price(start, end, mode)"
   ]
  },
  {
   "cell_type": "code",
   "execution_count": null,
   "metadata": {},
   "outputs": [],
   "source": [
    "df = calculate_return(df0)\n",
    "df"
   ]
  },
  {
   "cell_type": "code",
   "execution_count": null,
   "metadata": {},
   "outputs": [],
   "source": [
    "df.to_csv(\"data/2021_volume.csv\", index = False)"
   ]
  }
 ],
 "metadata": {
  "kernelspec": {
   "display_name": "Python 3.10.6 ('.venv': venv)",
   "language": "python",
   "name": "python3"
  },
  "language_info": {
   "codemirror_mode": {
    "name": "ipython",
    "version": 3
   },
   "file_extension": ".py",
   "mimetype": "text/x-python",
   "name": "python",
   "nbconvert_exporter": "python",
   "pygments_lexer": "ipython3",
   "version": "3.10.6"
  },
  "orig_nbformat": 4,
  "vscode": {
   "interpreter": {
    "hash": "ac5c71763ce4af7d6dc057106aa53cb2371e41115cfc9dc46f264378d07e5f1a"
   }
  }
 },
 "nbformat": 4,
 "nbformat_minor": 2
}
