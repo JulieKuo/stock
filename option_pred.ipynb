{
 "cells": [
  {
   "cell_type": "code",
   "execution_count": 16,
   "metadata": {},
   "outputs": [],
   "source": [
    "import pandas as pd\n",
    "import numpy as np\n",
    "from tqdm import tqdm\n",
    "import matplotlib.pyplot as plt\n",
    "import seaborn as sns\n",
    "import datetime\n",
    "from chinese_calendar import is_workday"
   ]
  },
  {
   "cell_type": "code",
   "execution_count": 17,
   "metadata": {},
   "outputs": [
    {
     "name": "stdout",
     "output_type": "stream",
     "text": [
      "(2069610, 7)\n"
     ]
    },
    {
     "data": {
      "text/html": [
       "<div>\n",
       "<style scoped>\n",
       "    .dataframe tbody tr th:only-of-type {\n",
       "        vertical-align: middle;\n",
       "    }\n",
       "\n",
       "    .dataframe tbody tr th {\n",
       "        vertical-align: top;\n",
       "    }\n",
       "\n",
       "    .dataframe thead th {\n",
       "        text-align: right;\n",
       "    }\n",
       "</style>\n",
       "<table border=\"1\" class=\"dataframe\">\n",
       "  <thead>\n",
       "    <tr style=\"text-align: right;\">\n",
       "      <th></th>\n",
       "      <th>date</th>\n",
       "      <th>Symbol</th>\n",
       "      <th>Open</th>\n",
       "      <th>High</th>\n",
       "      <th>Low</th>\n",
       "      <th>Close</th>\n",
       "      <th>TotalVolume</th>\n",
       "    </tr>\n",
       "  </thead>\n",
       "  <tbody>\n",
       "    <tr>\n",
       "      <th>0</th>\n",
       "      <td>2010-01-04 08:46:00</td>\n",
       "      <td>TXF1</td>\n",
       "      <td>8203.0</td>\n",
       "      <td>8208.0</td>\n",
       "      <td>8184.0</td>\n",
       "      <td>8189.0</td>\n",
       "      <td>1125</td>\n",
       "    </tr>\n",
       "    <tr>\n",
       "      <th>1</th>\n",
       "      <td>2010-01-04 08:47:00</td>\n",
       "      <td>TXF1</td>\n",
       "      <td>8188.0</td>\n",
       "      <td>8195.0</td>\n",
       "      <td>8186.0</td>\n",
       "      <td>8193.0</td>\n",
       "      <td>411</td>\n",
       "    </tr>\n",
       "    <tr>\n",
       "      <th>2</th>\n",
       "      <td>2010-01-04 08:48:00</td>\n",
       "      <td>TXF1</td>\n",
       "      <td>8194.0</td>\n",
       "      <td>8201.0</td>\n",
       "      <td>8193.0</td>\n",
       "      <td>8201.0</td>\n",
       "      <td>422</td>\n",
       "    </tr>\n",
       "  </tbody>\n",
       "</table>\n",
       "</div>"
      ],
      "text/plain": [
       "                 date Symbol    Open    High     Low   Close  TotalVolume\n",
       "0 2010-01-04 08:46:00   TXF1  8203.0  8208.0  8184.0  8189.0         1125\n",
       "1 2010-01-04 08:47:00   TXF1  8188.0  8195.0  8186.0  8193.0          411\n",
       "2 2010-01-04 08:48:00   TXF1  8194.0  8201.0  8193.0  8201.0          422"
      ]
     },
     "execution_count": 17,
     "metadata": {},
     "output_type": "execute_result"
    }
   ],
   "source": [
    "df = pd.read_csv(\"data/TXF1-KWAY64V2-TAIFEX-Futures-Minute-Trade.txt\", parse_dates = {\"date\": [\"Date\", \"Time\"]})\n",
    "print(df.shape)\n",
    "df.head(3)"
   ]
  },
  {
   "cell_type": "code",
   "execution_count": 18,
   "metadata": {},
   "outputs": [],
   "source": [
    "origin_start = datetime.datetime(2022, 1, 1)\n",
    "new_start = origin_start - datetime.timedelta(weeks = 1)"
   ]
  },
  {
   "attachments": {},
   "cell_type": "markdown",
   "metadata": {},
   "source": [
    "## data range"
   ]
  },
  {
   "cell_type": "code",
   "execution_count": 19,
   "metadata": {},
   "outputs": [
    {
     "name": "stdout",
     "output_type": "stream",
     "text": [
      "(281423, 7)\n"
     ]
    }
   ],
   "source": [
    "df = df.query(\"(date >= @new_start)\").reset_index(drop = True)\n",
    "print(df.shape)"
   ]
  },
  {
   "cell_type": "markdown",
   "metadata": {},
   "source": [
    "## 日盤資料"
   ]
  },
  {
   "cell_type": "code",
   "execution_count": 20,
   "metadata": {},
   "outputs": [
    {
     "name": "stdout",
     "output_type": "stream",
     "text": [
      "(73983, 6)\n"
     ]
    },
    {
     "data": {
      "text/html": [
       "<div>\n",
       "<style scoped>\n",
       "    .dataframe tbody tr th:only-of-type {\n",
       "        vertical-align: middle;\n",
       "    }\n",
       "\n",
       "    .dataframe tbody tr th {\n",
       "        vertical-align: top;\n",
       "    }\n",
       "\n",
       "    .dataframe thead th {\n",
       "        text-align: right;\n",
       "    }\n",
       "</style>\n",
       "<table border=\"1\" class=\"dataframe\">\n",
       "  <thead>\n",
       "    <tr style=\"text-align: right;\">\n",
       "      <th></th>\n",
       "      <th>date</th>\n",
       "      <th>open</th>\n",
       "      <th>high</th>\n",
       "      <th>low</th>\n",
       "      <th>close</th>\n",
       "      <th>volume</th>\n",
       "    </tr>\n",
       "  </thead>\n",
       "  <tbody>\n",
       "    <tr>\n",
       "      <th>0</th>\n",
       "      <td>2021-12-27 08:46:00</td>\n",
       "      <td>17982.0</td>\n",
       "      <td>17985.0</td>\n",
       "      <td>17969.0</td>\n",
       "      <td>17971.0</td>\n",
       "      <td>1330</td>\n",
       "    </tr>\n",
       "    <tr>\n",
       "      <th>1</th>\n",
       "      <td>2021-12-27 08:47:00</td>\n",
       "      <td>17971.0</td>\n",
       "      <td>17979.0</td>\n",
       "      <td>17967.0</td>\n",
       "      <td>17979.0</td>\n",
       "      <td>337</td>\n",
       "    </tr>\n",
       "    <tr>\n",
       "      <th>2</th>\n",
       "      <td>2021-12-27 08:48:00</td>\n",
       "      <td>17978.0</td>\n",
       "      <td>17995.0</td>\n",
       "      <td>17977.0</td>\n",
       "      <td>17990.0</td>\n",
       "      <td>648</td>\n",
       "    </tr>\n",
       "  </tbody>\n",
       "</table>\n",
       "</div>"
      ],
      "text/plain": [
       "                 date     open     high      low    close  volume\n",
       "0 2021-12-27 08:46:00  17982.0  17985.0  17969.0  17971.0    1330\n",
       "1 2021-12-27 08:47:00  17971.0  17979.0  17967.0  17979.0     337\n",
       "2 2021-12-27 08:48:00  17978.0  17995.0  17977.0  17990.0     648"
      ]
     },
     "execution_count": 20,
     "metadata": {},
     "output_type": "execute_result"
    }
   ],
   "source": [
    "df[\"time\"] = df[\"date\"].dt.time\n",
    "df[\"time\"] = df[\"time\"].astype(str).str.replace(\":\", \"\")\n",
    "df[\"day_night\"] = df.eval(\"(time >= '084500') & (time < '134500')\")\n",
    "df = df[df[\"day_night\"]].reset_index(drop = True)\n",
    "\n",
    "df = df.drop([\"Symbol\", \"time\", \"day_night\"], axis = 1)\n",
    "df.columns = [\"date\", \"open\", \"high\", \"low\", \"close\", \"volume\"]\n",
    "\n",
    "print(df.shape)\n",
    "df.head(3)"
   ]
  },
  {
   "cell_type": "markdown",
   "metadata": {},
   "source": [
    "## Missing value"
   ]
  },
  {
   "cell_type": "code",
   "execution_count": 21,
   "metadata": {},
   "outputs": [
    {
     "name": "stdout",
     "output_type": "stream",
     "text": [
      "(75599, 6)\n"
     ]
    },
    {
     "data": {
      "text/html": [
       "<div>\n",
       "<style scoped>\n",
       "    .dataframe tbody tr th:only-of-type {\n",
       "        vertical-align: middle;\n",
       "    }\n",
       "\n",
       "    .dataframe tbody tr th {\n",
       "        vertical-align: top;\n",
       "    }\n",
       "\n",
       "    .dataframe thead th {\n",
       "        text-align: right;\n",
       "    }\n",
       "</style>\n",
       "<table border=\"1\" class=\"dataframe\">\n",
       "  <thead>\n",
       "    <tr style=\"text-align: right;\">\n",
       "      <th></th>\n",
       "      <th>date</th>\n",
       "      <th>open</th>\n",
       "      <th>high</th>\n",
       "      <th>low</th>\n",
       "      <th>close</th>\n",
       "      <th>volume</th>\n",
       "    </tr>\n",
       "  </thead>\n",
       "  <tbody>\n",
       "    <tr>\n",
       "      <th>0</th>\n",
       "      <td>2021-12-27 08:46:00</td>\n",
       "      <td>17982.0</td>\n",
       "      <td>17985.0</td>\n",
       "      <td>17969.0</td>\n",
       "      <td>17971.0</td>\n",
       "      <td>1330.0</td>\n",
       "    </tr>\n",
       "    <tr>\n",
       "      <th>1</th>\n",
       "      <td>2021-12-27 08:47:00</td>\n",
       "      <td>17971.0</td>\n",
       "      <td>17979.0</td>\n",
       "      <td>17967.0</td>\n",
       "      <td>17979.0</td>\n",
       "      <td>337.0</td>\n",
       "    </tr>\n",
       "    <tr>\n",
       "      <th>2</th>\n",
       "      <td>2021-12-27 08:48:00</td>\n",
       "      <td>17978.0</td>\n",
       "      <td>17995.0</td>\n",
       "      <td>17977.0</td>\n",
       "      <td>17990.0</td>\n",
       "      <td>648.0</td>\n",
       "    </tr>\n",
       "  </tbody>\n",
       "</table>\n",
       "</div>"
      ],
      "text/plain": [
       "                 date     open     high      low    close  volume\n",
       "0 2021-12-27 08:46:00  17982.0  17985.0  17969.0  17971.0  1330.0\n",
       "1 2021-12-27 08:47:00  17971.0  17979.0  17967.0  17979.0   337.0\n",
       "2 2021-12-27 08:48:00  17978.0  17995.0  17977.0  17990.0   648.0"
      ]
     },
     "execution_count": 21,
     "metadata": {},
     "output_type": "execute_result"
    }
   ],
   "source": [
    "times = pd.date_range(df.loc[0, \"date\"], df.loc[len(df)-1, \"date\"], freq = 'T')\n",
    "times = [t for t in times if (t.time() >= datetime.time(8, 45)) and (t.time() < datetime.time(13, 45) and (is_workday(t)))]\n",
    "df = (\n",
    "    df\n",
    "    .set_index(\"date\")\n",
    "    .reindex(index = times)\n",
    "    .reset_index()\n",
    "    )\n",
    "\n",
    "print(df.shape)\n",
    "df.head(3)"
   ]
  },
  {
   "cell_type": "code",
   "execution_count": 22,
   "metadata": {},
   "outputs": [],
   "source": [
    "df[\"close\"] = df[\"close\"].fillna(method = \"ffill\")\n",
    "df[\"volume\"] = df[\"volume\"].fillna(0)\n",
    "for col in [\"open\", \"high\", \"low\"]:\n",
    "    df[col] = df[col].fillna(df[\"close\"])"
   ]
  },
  {
   "cell_type": "markdown",
   "metadata": {},
   "source": [
    "## Cyclical features encoding"
   ]
  },
  {
   "cell_type": "code",
   "execution_count": 23,
   "metadata": {},
   "outputs": [
    {
     "data": {
      "text/html": [
       "<div>\n",
       "<style scoped>\n",
       "    .dataframe tbody tr th:only-of-type {\n",
       "        vertical-align: middle;\n",
       "    }\n",
       "\n",
       "    .dataframe tbody tr th {\n",
       "        vertical-align: top;\n",
       "    }\n",
       "\n",
       "    .dataframe thead th {\n",
       "        text-align: right;\n",
       "    }\n",
       "</style>\n",
       "<table border=\"1\" class=\"dataframe\">\n",
       "  <thead>\n",
       "    <tr style=\"text-align: right;\">\n",
       "      <th></th>\n",
       "      <th>date</th>\n",
       "      <th>open</th>\n",
       "      <th>high</th>\n",
       "      <th>low</th>\n",
       "      <th>close</th>\n",
       "      <th>volume</th>\n",
       "      <th>month_sin</th>\n",
       "      <th>month_cos</th>\n",
       "      <th>day_sin</th>\n",
       "      <th>day_cos</th>\n",
       "      <th>hour_sin</th>\n",
       "      <th>hour_cos</th>\n",
       "      <th>min_sin</th>\n",
       "      <th>min_cos</th>\n",
       "    </tr>\n",
       "  </thead>\n",
       "  <tbody>\n",
       "    <tr>\n",
       "      <th>0</th>\n",
       "      <td>2021-12-27 08:46:00</td>\n",
       "      <td>17982.0</td>\n",
       "      <td>17985.0</td>\n",
       "      <td>17969.0</td>\n",
       "      <td>17971.0</td>\n",
       "      <td>1330.0</td>\n",
       "      <td>-2.449294e-16</td>\n",
       "      <td>1.0</td>\n",
       "      <td>-0.724793</td>\n",
       "      <td>0.688967</td>\n",
       "      <td>0.866025</td>\n",
       "      <td>-0.5</td>\n",
       "      <td>-0.994522</td>\n",
       "      <td>0.104528</td>\n",
       "    </tr>\n",
       "    <tr>\n",
       "      <th>1</th>\n",
       "      <td>2021-12-27 08:47:00</td>\n",
       "      <td>17971.0</td>\n",
       "      <td>17979.0</td>\n",
       "      <td>17967.0</td>\n",
       "      <td>17979.0</td>\n",
       "      <td>337.0</td>\n",
       "      <td>-2.449294e-16</td>\n",
       "      <td>1.0</td>\n",
       "      <td>-0.724793</td>\n",
       "      <td>0.688967</td>\n",
       "      <td>0.866025</td>\n",
       "      <td>-0.5</td>\n",
       "      <td>-0.978148</td>\n",
       "      <td>0.207912</td>\n",
       "    </tr>\n",
       "    <tr>\n",
       "      <th>2</th>\n",
       "      <td>2021-12-27 08:48:00</td>\n",
       "      <td>17978.0</td>\n",
       "      <td>17995.0</td>\n",
       "      <td>17977.0</td>\n",
       "      <td>17990.0</td>\n",
       "      <td>648.0</td>\n",
       "      <td>-2.449294e-16</td>\n",
       "      <td>1.0</td>\n",
       "      <td>-0.724793</td>\n",
       "      <td>0.688967</td>\n",
       "      <td>0.866025</td>\n",
       "      <td>-0.5</td>\n",
       "      <td>-0.951057</td>\n",
       "      <td>0.309017</td>\n",
       "    </tr>\n",
       "  </tbody>\n",
       "</table>\n",
       "</div>"
      ],
      "text/plain": [
       "                 date     open     high      low    close  volume  \\\n",
       "0 2021-12-27 08:46:00  17982.0  17985.0  17969.0  17971.0  1330.0   \n",
       "1 2021-12-27 08:47:00  17971.0  17979.0  17967.0  17979.0   337.0   \n",
       "2 2021-12-27 08:48:00  17978.0  17995.0  17977.0  17990.0   648.0   \n",
       "\n",
       "      month_sin  month_cos   day_sin   day_cos  hour_sin  hour_cos   min_sin  \\\n",
       "0 -2.449294e-16        1.0 -0.724793  0.688967  0.866025      -0.5 -0.994522   \n",
       "1 -2.449294e-16        1.0 -0.724793  0.688967  0.866025      -0.5 -0.978148   \n",
       "2 -2.449294e-16        1.0 -0.724793  0.688967  0.866025      -0.5 -0.951057   \n",
       "\n",
       "    min_cos  \n",
       "0  0.104528  \n",
       "1  0.207912  \n",
       "2  0.309017  "
      ]
     },
     "execution_count": 23,
     "metadata": {},
     "output_type": "execute_result"
    }
   ],
   "source": [
    "df['month_sin'] = np.sin(2 * np.pi * df[\"date\"].dt.month/12)\n",
    "df['month_cos'] = np.cos(2 * np.pi * df[\"date\"].dt.month/12)\n",
    "\n",
    "df['day_sin'] = np.sin(2 * np.pi * df[\"date\"].dt.day/31)\n",
    "df['day_cos'] = np.cos(2 * np.pi * df[\"date\"].dt.day/31)\n",
    "\n",
    "df['hour_sin'] = np.sin(2 * np.pi * df[\"date\"].dt.hour/24)\n",
    "df['hour_cos'] = np.cos(2 * np.pi * df[\"date\"].dt.hour/24)\n",
    "\n",
    "df['min_sin'] = np.sin(2 * np.pi * df[\"date\"].dt.minute/60)\n",
    "df['min_cos'] = np.cos(2 * np.pi * df[\"date\"].dt.minute/60)\n",
    "\n",
    "df.head(3)"
   ]
  },
  {
   "cell_type": "markdown",
   "metadata": {},
   "source": [
    "## Discretization"
   ]
  },
  {
   "cell_type": "code",
   "execution_count": 24,
   "metadata": {},
   "outputs": [
    {
     "data": {
      "text/html": [
       "<div>\n",
       "<style scoped>\n",
       "    .dataframe tbody tr th:only-of-type {\n",
       "        vertical-align: middle;\n",
       "    }\n",
       "\n",
       "    .dataframe tbody tr th {\n",
       "        vertical-align: top;\n",
       "    }\n",
       "\n",
       "    .dataframe thead th {\n",
       "        text-align: right;\n",
       "    }\n",
       "</style>\n",
       "<table border=\"1\" class=\"dataframe\">\n",
       "  <thead>\n",
       "    <tr style=\"text-align: right;\">\n",
       "      <th></th>\n",
       "      <th>date</th>\n",
       "      <th>open</th>\n",
       "      <th>high</th>\n",
       "      <th>low</th>\n",
       "      <th>close</th>\n",
       "      <th>volume</th>\n",
       "      <th>month_sin</th>\n",
       "      <th>month_cos</th>\n",
       "      <th>day_sin</th>\n",
       "      <th>day_cos</th>\n",
       "      <th>hour_sin</th>\n",
       "      <th>hour_cos</th>\n",
       "      <th>min_sin</th>\n",
       "      <th>min_cos</th>\n",
       "      <th>vol_bin</th>\n",
       "    </tr>\n",
       "  </thead>\n",
       "  <tbody>\n",
       "    <tr>\n",
       "      <th>0</th>\n",
       "      <td>2021-12-27 08:46:00</td>\n",
       "      <td>17982.0</td>\n",
       "      <td>17985.0</td>\n",
       "      <td>17969.0</td>\n",
       "      <td>17971.0</td>\n",
       "      <td>1330.0</td>\n",
       "      <td>-2.449294e-16</td>\n",
       "      <td>1.0</td>\n",
       "      <td>-0.724793</td>\n",
       "      <td>0.688967</td>\n",
       "      <td>0.866025</td>\n",
       "      <td>-0.5</td>\n",
       "      <td>-0.994522</td>\n",
       "      <td>0.104528</td>\n",
       "      <td>2</td>\n",
       "    </tr>\n",
       "    <tr>\n",
       "      <th>1</th>\n",
       "      <td>2021-12-27 08:47:00</td>\n",
       "      <td>17971.0</td>\n",
       "      <td>17979.0</td>\n",
       "      <td>17967.0</td>\n",
       "      <td>17979.0</td>\n",
       "      <td>337.0</td>\n",
       "      <td>-2.449294e-16</td>\n",
       "      <td>1.0</td>\n",
       "      <td>-0.724793</td>\n",
       "      <td>0.688967</td>\n",
       "      <td>0.866025</td>\n",
       "      <td>-0.5</td>\n",
       "      <td>-0.978148</td>\n",
       "      <td>0.207912</td>\n",
       "      <td>0</td>\n",
       "    </tr>\n",
       "    <tr>\n",
       "      <th>2</th>\n",
       "      <td>2021-12-27 08:48:00</td>\n",
       "      <td>17978.0</td>\n",
       "      <td>17995.0</td>\n",
       "      <td>17977.0</td>\n",
       "      <td>17990.0</td>\n",
       "      <td>648.0</td>\n",
       "      <td>-2.449294e-16</td>\n",
       "      <td>1.0</td>\n",
       "      <td>-0.724793</td>\n",
       "      <td>0.688967</td>\n",
       "      <td>0.866025</td>\n",
       "      <td>-0.5</td>\n",
       "      <td>-0.951057</td>\n",
       "      <td>0.309017</td>\n",
       "      <td>1</td>\n",
       "    </tr>\n",
       "  </tbody>\n",
       "</table>\n",
       "</div>"
      ],
      "text/plain": [
       "                 date     open     high      low    close  volume  \\\n",
       "0 2021-12-27 08:46:00  17982.0  17985.0  17969.0  17971.0  1330.0   \n",
       "1 2021-12-27 08:47:00  17971.0  17979.0  17967.0  17979.0   337.0   \n",
       "2 2021-12-27 08:48:00  17978.0  17995.0  17977.0  17990.0   648.0   \n",
       "\n",
       "      month_sin  month_cos   day_sin   day_cos  hour_sin  hour_cos   min_sin  \\\n",
       "0 -2.449294e-16        1.0 -0.724793  0.688967  0.866025      -0.5 -0.994522   \n",
       "1 -2.449294e-16        1.0 -0.724793  0.688967  0.866025      -0.5 -0.978148   \n",
       "2 -2.449294e-16        1.0 -0.724793  0.688967  0.866025      -0.5 -0.951057   \n",
       "\n",
       "    min_cos  vol_bin  \n",
       "0  0.104528        2  \n",
       "1  0.207912        0  \n",
       "2  0.309017        1  "
      ]
     },
     "execution_count": 24,
     "metadata": {},
     "output_type": "execute_result"
    }
   ],
   "source": [
    "df[\"vol_bin\"] = pd.cut(df[\"volume\"], [-1, 500, 1000, 1500, df[\"volume\"].max()], labels=[0, 1, 2, 3])\n",
    "df[\"vol_bin\"] = df[\"vol_bin\"].astype(int)\n",
    "df.head(3)"
   ]
  },
  {
   "attachments": {},
   "cell_type": "markdown",
   "metadata": {},
   "source": [
    "## Generate target"
   ]
  },
  {
   "cell_type": "code",
   "execution_count": 25,
   "metadata": {},
   "outputs": [
    {
     "name": "stdout",
     "output_type": "stream",
     "text": [
      "(75597, 17)\n"
     ]
    },
    {
     "data": {
      "text/html": [
       "<div>\n",
       "<style scoped>\n",
       "    .dataframe tbody tr th:only-of-type {\n",
       "        vertical-align: middle;\n",
       "    }\n",
       "\n",
       "    .dataframe tbody tr th {\n",
       "        vertical-align: top;\n",
       "    }\n",
       "\n",
       "    .dataframe thead th {\n",
       "        text-align: right;\n",
       "    }\n",
       "</style>\n",
       "<table border=\"1\" class=\"dataframe\">\n",
       "  <thead>\n",
       "    <tr style=\"text-align: right;\">\n",
       "      <th></th>\n",
       "      <th>date</th>\n",
       "      <th>open</th>\n",
       "      <th>high</th>\n",
       "      <th>low</th>\n",
       "      <th>close</th>\n",
       "      <th>volume</th>\n",
       "      <th>month_sin</th>\n",
       "      <th>month_cos</th>\n",
       "      <th>day_sin</th>\n",
       "      <th>day_cos</th>\n",
       "      <th>hour_sin</th>\n",
       "      <th>hour_cos</th>\n",
       "      <th>min_sin</th>\n",
       "      <th>min_cos</th>\n",
       "      <th>vol_bin</th>\n",
       "      <th>target</th>\n",
       "      <th>return</th>\n",
       "    </tr>\n",
       "  </thead>\n",
       "  <tbody>\n",
       "    <tr>\n",
       "      <th>1</th>\n",
       "      <td>2021-12-27 08:47:00</td>\n",
       "      <td>17971.0</td>\n",
       "      <td>17979.0</td>\n",
       "      <td>17967.0</td>\n",
       "      <td>17979.0</td>\n",
       "      <td>337.0</td>\n",
       "      <td>-2.449294e-16</td>\n",
       "      <td>1.0</td>\n",
       "      <td>-0.724793</td>\n",
       "      <td>0.688967</td>\n",
       "      <td>0.866025</td>\n",
       "      <td>-0.5</td>\n",
       "      <td>-0.978148</td>\n",
       "      <td>0.207912</td>\n",
       "      <td>0</td>\n",
       "      <td>1</td>\n",
       "      <td>0.000445</td>\n",
       "    </tr>\n",
       "    <tr>\n",
       "      <th>2</th>\n",
       "      <td>2021-12-27 08:48:00</td>\n",
       "      <td>17978.0</td>\n",
       "      <td>17995.0</td>\n",
       "      <td>17977.0</td>\n",
       "      <td>17990.0</td>\n",
       "      <td>648.0</td>\n",
       "      <td>-2.449294e-16</td>\n",
       "      <td>1.0</td>\n",
       "      <td>-0.724793</td>\n",
       "      <td>0.688967</td>\n",
       "      <td>0.866025</td>\n",
       "      <td>-0.5</td>\n",
       "      <td>-0.951057</td>\n",
       "      <td>0.309017</td>\n",
       "      <td>1</td>\n",
       "      <td>1</td>\n",
       "      <td>0.000612</td>\n",
       "    </tr>\n",
       "    <tr>\n",
       "      <th>3</th>\n",
       "      <td>2021-12-27 08:49:00</td>\n",
       "      <td>17990.0</td>\n",
       "      <td>17997.0</td>\n",
       "      <td>17990.0</td>\n",
       "      <td>17992.0</td>\n",
       "      <td>274.0</td>\n",
       "      <td>-2.449294e-16</td>\n",
       "      <td>1.0</td>\n",
       "      <td>-0.724793</td>\n",
       "      <td>0.688967</td>\n",
       "      <td>0.866025</td>\n",
       "      <td>-0.5</td>\n",
       "      <td>-0.913545</td>\n",
       "      <td>0.406737</td>\n",
       "      <td>0</td>\n",
       "      <td>1</td>\n",
       "      <td>0.000111</td>\n",
       "    </tr>\n",
       "  </tbody>\n",
       "</table>\n",
       "</div>"
      ],
      "text/plain": [
       "                 date     open     high      low    close  volume  \\\n",
       "1 2021-12-27 08:47:00  17971.0  17979.0  17967.0  17979.0   337.0   \n",
       "2 2021-12-27 08:48:00  17978.0  17995.0  17977.0  17990.0   648.0   \n",
       "3 2021-12-27 08:49:00  17990.0  17997.0  17990.0  17992.0   274.0   \n",
       "\n",
       "      month_sin  month_cos   day_sin   day_cos  hour_sin  hour_cos   min_sin  \\\n",
       "1 -2.449294e-16        1.0 -0.724793  0.688967  0.866025      -0.5 -0.978148   \n",
       "2 -2.449294e-16        1.0 -0.724793  0.688967  0.866025      -0.5 -0.951057   \n",
       "3 -2.449294e-16        1.0 -0.724793  0.688967  0.866025      -0.5 -0.913545   \n",
       "\n",
       "    min_cos  vol_bin  target    return  \n",
       "1  0.207912        0       1  0.000445  \n",
       "2  0.309017        1       1  0.000612  \n",
       "3  0.406737        0       1  0.000111  "
      ]
     },
     "execution_count": 25,
     "metadata": {},
     "output_type": "execute_result"
    }
   ],
   "source": [
    "df[\"target\"] = (df[\"close\"].shift(-1) - df[\"close\"])\n",
    "df[\"return\"] = df[\"close\"].pct_change()\n",
    "df = df.dropna()\n",
    "df[\"target\"] = df.eval(\"target > 0\").astype(int)\n",
    "print(df.shape)\n",
    "df.head(3)"
   ]
  },
  {
   "cell_type": "markdown",
   "metadata": {},
   "source": [
    "### Features"
   ]
  },
  {
   "cell_type": "code",
   "execution_count": 26,
   "metadata": {},
   "outputs": [],
   "source": [
    "num_feats = [\n",
    "    'open', 'high', 'low', 'close', 'volume', 'month_sin', 'month_cos', 'day_sin', \n",
    "    'day_cos', 'hour_sin', 'hour_cos', 'min_sin', 'min_cos', 'return',\n",
    "]\n",
    "cat_feats = ['vol_bin']\n",
    "target = \"target\""
   ]
  },
  {
   "cell_type": "code",
   "execution_count": null,
   "metadata": {},
   "outputs": [],
   "source": []
  },
  {
   "cell_type": "code",
   "execution_count": null,
   "metadata": {},
   "outputs": [],
   "source": []
  },
  {
   "cell_type": "code",
   "execution_count": null,
   "metadata": {},
   "outputs": [],
   "source": [
    "plt.figure(figsize=(20, 10))\n",
    "corr = df.corr(method = \"spearman\").round(4)\n",
    "sns.heatmap(data = corr, annot=True, cmap = 'RdBu')"
   ]
  },
  {
   "cell_type": "code",
   "execution_count": null,
   "metadata": {},
   "outputs": [],
   "source": []
  },
  {
   "cell_type": "code",
   "execution_count": 27,
   "metadata": {},
   "outputs": [
    {
     "name": "stdout",
     "output_type": "stream",
     "text": [
      "(74099, 17)\n"
     ]
    },
    {
     "data": {
      "text/plain": [
       "08:45:00    247\n",
       "12:11:00    247\n",
       "12:09:00    247\n",
       "12:08:00    247\n",
       "12:07:00    247\n",
       "           ... \n",
       "10:24:00    247\n",
       "10:23:00    247\n",
       "10:22:00    247\n",
       "10:21:00    247\n",
       "13:44:00    246\n",
       "Name: date, Length: 300, dtype: int64"
      ]
     },
     "execution_count": 27,
     "metadata": {},
     "output_type": "execute_result"
    }
   ],
   "source": [
    "df = df.query(\"(date >= '2022-01-01')\").reset_index(drop = True)\n",
    "print(df.shape)\n",
    "df.head(3)\n",
    "df[\"date\"].dt.time.value_counts()"
   ]
  },
  {
   "cell_type": "code",
   "execution_count": null,
   "metadata": {},
   "outputs": [],
   "source": []
  },
  {
   "cell_type": "code",
   "execution_count": null,
   "metadata": {},
   "outputs": [],
   "source": [
    "(len(df))/300"
   ]
  },
  {
   "cell_type": "code",
   "execution_count": null,
   "metadata": {},
   "outputs": [],
   "source": [
    "df"
   ]
  },
  {
   "cell_type": "code",
   "execution_count": null,
   "metadata": {},
   "outputs": [],
   "source": [
    "from sklearn.model_selection import TimeSeriesSplit\n",
    "\n",
    "n_splits = len(df)//300\n",
    "tscv = TimeSeriesSplit(n_splits = n_splits, test_size = 300)\n",
    "for i, (train_index, test_index) in enumerate(tscv.split(df)):\n",
    "    print(f\"Fold {i}:\")\n",
    "    print(f\"  Train: index={train_index}\")\n",
    "    print(f\"  Test:  index={test_index}\")"
   ]
  },
  {
   "cell_type": "code",
   "execution_count": null,
   "metadata": {},
   "outputs": [],
   "source": []
  }
 ],
 "metadata": {
  "kernelspec": {
   "display_name": ".venv",
   "language": "python",
   "name": "python3"
  },
  "language_info": {
   "codemirror_mode": {
    "name": "ipython",
    "version": 3
   },
   "file_extension": ".py",
   "mimetype": "text/x-python",
   "name": "python",
   "nbconvert_exporter": "python",
   "pygments_lexer": "ipython3",
   "version": "3.8.10 (tags/v3.8.10:3d8993a, May  3 2021, 11:48:03) [MSC v.1928 64 bit (AMD64)]"
  },
  "orig_nbformat": 4,
  "vscode": {
   "interpreter": {
    "hash": "6a07fcf0145f94b3f971c13d061528107de20ab7b779375f96dab9bbac6a85db"
   }
  }
 },
 "nbformat": 4,
 "nbformat_minor": 2
}
