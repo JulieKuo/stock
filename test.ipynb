{
 "cells": [
  {
   "cell_type": "code",
   "execution_count": 1,
   "metadata": {},
   "outputs": [],
   "source": [
    "import pandas as pd\n",
    "import datetime, os, shutil\n",
    "import stock_data as stock\n",
    "import numpy as np\n",
    "from tqdm import tqdm\n",
    "\n",
    "import matplotlib.pyplot as plt\n",
    "import seaborn as sns\n",
    "from scipy.signal import find_peaks\n",
    "from scipy.integrate import simpson"
   ]
  },
  {
   "cell_type": "code",
   "execution_count": 2,
   "metadata": {},
   "outputs": [],
   "source": [
    "density_threshold = 1/4"
   ]
  },
  {
   "cell_type": "markdown",
   "metadata": {},
   "source": [
    "### Get Data"
   ]
  },
  {
   "cell_type": "code",
   "execution_count": 3,
   "metadata": {},
   "outputs": [],
   "source": [
    "folder_path = os.path.join(os.getcwd(), \"data\")\n",
    "\n",
    "if not os.path.exists(folder_path):\n",
    "    os.makedirs(folder_path)\n",
    "    print(f\"Create folder：{folder_path}\")"
   ]
  },
  {
   "cell_type": "code",
   "execution_count": 4,
   "metadata": {},
   "outputs": [
    {
     "name": "stdout",
     "output_type": "stream",
     "text": [
      "2020-06-12 ~ 2024-06-12\n"
     ]
    }
   ],
   "source": [
    "import stock_data as stock\n",
    "\n",
    "scrapy = stock.Scrapy()\n",
    "today = datetime.datetime(2024, 6, 12).date() #datetime.datetime.today().date()\n",
    "start = datetime.datetime(today.year - 4, today.month, today.day).date()\n",
    "print(f\"{start} ~ {today}\")"
   ]
  },
  {
   "cell_type": "markdown",
   "metadata": {},
   "source": [
    "price = scrapy.get_price(\n",
    "    start = str(start),\n",
    "    end = str(today),\n",
    "    mode = \"listed\"\n",
    ")\n",
    "price.to_csv(f\"data/price_{start.year}_{today.year}.csv\", index = False)\n",
    "print(f\"length = {len(price)}\")\n",
    "price.head()"
   ]
  },
  {
   "cell_type": "markdown",
   "metadata": {},
   "source": [
    "twiis = scrapy.get_price(\n",
    "    start = str(start),\n",
    "    end = str(today),\n",
    "    mode = \"other\",\n",
    "    query = \"^TWII\"\n",
    ")\n",
    "twiis.to_csv(f\"data/twii_{start.year}_{today.year}.csv\", index = False)"
   ]
  },
  {
   "cell_type": "markdown",
   "metadata": {},
   "source": [
    "### Load Data"
   ]
  },
  {
   "cell_type": "code",
   "execution_count": 5,
   "metadata": {},
   "outputs": [],
   "source": [
    "twii_raw = pd.read_csv(f\"data/twii_{start.year}_{today.year}.csv\", parse_dates = [\"Date\"])\n",
    "price_raw = pd.read_csv(f\"data/price_{start.year}_{today.year}.csv\", parse_dates = [\"Date\"])"
   ]
  },
  {
   "cell_type": "code",
   "execution_count": 6,
   "metadata": {},
   "outputs": [
    {
     "data": {
      "text/html": [
       "<div>\n",
       "<style scoped>\n",
       "    .dataframe tbody tr th:only-of-type {\n",
       "        vertical-align: middle;\n",
       "    }\n",
       "\n",
       "    .dataframe tbody tr th {\n",
       "        vertical-align: top;\n",
       "    }\n",
       "\n",
       "    .dataframe thead th {\n",
       "        text-align: right;\n",
       "    }\n",
       "</style>\n",
       "<table border=\"1\" class=\"dataframe\">\n",
       "  <thead>\n",
       "    <tr style=\"text-align: right;\">\n",
       "      <th></th>\n",
       "      <th>Symbol</th>\n",
       "      <th>Date</th>\n",
       "      <th>Open</th>\n",
       "      <th>High</th>\n",
       "      <th>Low</th>\n",
       "      <th>Close</th>\n",
       "      <th>Adj Close</th>\n",
       "      <th>Volume</th>\n",
       "    </tr>\n",
       "  </thead>\n",
       "  <tbody>\n",
       "    <tr>\n",
       "      <th>0</th>\n",
       "      <td>9958.TW</td>\n",
       "      <td>2024-06-12</td>\n",
       "      <td>326.00</td>\n",
       "      <td>330.00</td>\n",
       "      <td>317.00</td>\n",
       "      <td>329.50</td>\n",
       "      <td>329.50</td>\n",
       "      <td>7102754.0</td>\n",
       "    </tr>\n",
       "    <tr>\n",
       "      <th>1</th>\n",
       "      <td>9958.TW</td>\n",
       "      <td>2024-06-11</td>\n",
       "      <td>332.00</td>\n",
       "      <td>336.00</td>\n",
       "      <td>322.00</td>\n",
       "      <td>324.50</td>\n",
       "      <td>324.50</td>\n",
       "      <td>15002777.0</td>\n",
       "    </tr>\n",
       "    <tr>\n",
       "      <th>2</th>\n",
       "      <td>9958.TW</td>\n",
       "      <td>2024-06-07</td>\n",
       "      <td>295.50</td>\n",
       "      <td>324.50</td>\n",
       "      <td>295.00</td>\n",
       "      <td>324.50</td>\n",
       "      <td>324.50</td>\n",
       "      <td>20816257.0</td>\n",
       "    </tr>\n",
       "    <tr>\n",
       "      <th>3</th>\n",
       "      <td>9958.TW</td>\n",
       "      <td>2024-06-06</td>\n",
       "      <td>286.50</td>\n",
       "      <td>296.00</td>\n",
       "      <td>283.00</td>\n",
       "      <td>295.00</td>\n",
       "      <td>295.00</td>\n",
       "      <td>5302951.0</td>\n",
       "    </tr>\n",
       "    <tr>\n",
       "      <th>4</th>\n",
       "      <td>9958.TW</td>\n",
       "      <td>2024-06-05</td>\n",
       "      <td>288.00</td>\n",
       "      <td>290.50</td>\n",
       "      <td>284.00</td>\n",
       "      <td>284.00</td>\n",
       "      <td>284.00</td>\n",
       "      <td>3921070.0</td>\n",
       "    </tr>\n",
       "    <tr>\n",
       "      <th>...</th>\n",
       "      <td>...</td>\n",
       "      <td>...</td>\n",
       "      <td>...</td>\n",
       "      <td>...</td>\n",
       "      <td>...</td>\n",
       "      <td>...</td>\n",
       "      <td>...</td>\n",
       "      <td>...</td>\n",
       "    </tr>\n",
       "    <tr>\n",
       "      <th>943811</th>\n",
       "      <td>1101.TW</td>\n",
       "      <td>2020-06-19</td>\n",
       "      <td>37.06</td>\n",
       "      <td>37.40</td>\n",
       "      <td>36.84</td>\n",
       "      <td>36.84</td>\n",
       "      <td>31.18</td>\n",
       "      <td>29018566.0</td>\n",
       "    </tr>\n",
       "    <tr>\n",
       "      <th>943812</th>\n",
       "      <td>1101.TW</td>\n",
       "      <td>2020-06-18</td>\n",
       "      <td>37.10</td>\n",
       "      <td>37.14</td>\n",
       "      <td>36.88</td>\n",
       "      <td>36.97</td>\n",
       "      <td>31.29</td>\n",
       "      <td>12029646.0</td>\n",
       "    </tr>\n",
       "    <tr>\n",
       "      <th>943813</th>\n",
       "      <td>1101.TW</td>\n",
       "      <td>2020-06-17</td>\n",
       "      <td>37.06</td>\n",
       "      <td>37.10</td>\n",
       "      <td>36.84</td>\n",
       "      <td>37.10</td>\n",
       "      <td>31.40</td>\n",
       "      <td>16973786.0</td>\n",
       "    </tr>\n",
       "    <tr>\n",
       "      <th>943814</th>\n",
       "      <td>1101.TW</td>\n",
       "      <td>2020-06-16</td>\n",
       "      <td>37.01</td>\n",
       "      <td>37.36</td>\n",
       "      <td>36.97</td>\n",
       "      <td>37.10</td>\n",
       "      <td>31.40</td>\n",
       "      <td>13740695.0</td>\n",
       "    </tr>\n",
       "    <tr>\n",
       "      <th>943815</th>\n",
       "      <td>1101.TW</td>\n",
       "      <td>2020-06-15</td>\n",
       "      <td>37.01</td>\n",
       "      <td>37.19</td>\n",
       "      <td>36.80</td>\n",
       "      <td>36.80</td>\n",
       "      <td>31.15</td>\n",
       "      <td>20644147.0</td>\n",
       "    </tr>\n",
       "  </tbody>\n",
       "</table>\n",
       "<p>943816 rows × 8 columns</p>\n",
       "</div>"
      ],
      "text/plain": [
       "         Symbol        Date    Open    High     Low   Close  Adj Close  \\\n",
       "0       9958.TW  2024-06-12  326.00  330.00  317.00  329.50     329.50   \n",
       "1       9958.TW  2024-06-11  332.00  336.00  322.00  324.50     324.50   \n",
       "2       9958.TW  2024-06-07  295.50  324.50  295.00  324.50     324.50   \n",
       "3       9958.TW  2024-06-06  286.50  296.00  283.00  295.00     295.00   \n",
       "4       9958.TW  2024-06-05  288.00  290.50  284.00  284.00     284.00   \n",
       "...         ...         ...     ...     ...     ...     ...        ...   \n",
       "943811  1101.TW  2020-06-19   37.06   37.40   36.84   36.84      31.18   \n",
       "943812  1101.TW  2020-06-18   37.10   37.14   36.88   36.97      31.29   \n",
       "943813  1101.TW  2020-06-17   37.06   37.10   36.84   37.10      31.40   \n",
       "943814  1101.TW  2020-06-16   37.01   37.36   36.97   37.10      31.40   \n",
       "943815  1101.TW  2020-06-15   37.01   37.19   36.80   36.80      31.15   \n",
       "\n",
       "            Volume  \n",
       "0        7102754.0  \n",
       "1       15002777.0  \n",
       "2       20816257.0  \n",
       "3        5302951.0  \n",
       "4        3921070.0  \n",
       "...            ...  \n",
       "943811  29018566.0  \n",
       "943812  12029646.0  \n",
       "943813  16973786.0  \n",
       "943814  13740695.0  \n",
       "943815  20644147.0  \n",
       "\n",
       "[943816 rows x 8 columns]"
      ]
     },
     "execution_count": 6,
     "metadata": {},
     "output_type": "execute_result"
    }
   ],
   "source": [
    "price_raw = price_raw.sort_values(by = [\"Symbol\", \"Date\"], ascending=False).reset_index(drop = True)\n",
    "price_raw[\"Date\"] = price_raw[\"Date\"].dt.date\n",
    "price_raw"
   ]
  },
  {
   "cell_type": "code",
   "execution_count": 7,
   "metadata": {},
   "outputs": [],
   "source": [
    "target_date = datetime.datetime(2023, 6, 12).date()"
   ]
  },
  {
   "cell_type": "code",
   "execution_count": 8,
   "metadata": {},
   "outputs": [],
   "source": [
    "if os.path.exists(\"image\"):\n",
    "    shutil.rmtree(\"image\") # remove all files in image folder\n",
    "\n",
    "os.makedirs(\"image\", exist_ok=True) # create image folder"
   ]
  },
  {
   "cell_type": "code",
   "execution_count": 9,
   "metadata": {},
   "outputs": [
    {
     "name": "stderr",
     "output_type": "stream",
     "text": [
      "100%|██████████| 997/997 [00:22<00:00, 45.22it/s]\n"
     ]
    }
   ],
   "source": [
    "groups = price_raw.groupby(\"Symbol\")\n",
    "for name, df_group in tqdm(groups):\n",
    "    df_group = df_group.reset_index(drop = True)    \n",
    "    if target_date in df_group[\"Date\"].to_list():\n",
    "        start_idx = df_group[df_group[\"Date\"] == target_date].index[0]\n",
    "        end_idx = start_idx + (250 * 2)\n",
    "        if end_idx <= df_group.shape[0]:\n",
    "            # print(f'{df_group.loc[start_idx, \"Date\"]} ~ {df_group.loc[end_idx, \"Date\"]}')\n",
    "            df_group1 = df_group.loc[start_idx:end_idx]\n",
    "            current_price = df_group1[\"Close\"].values[0]\n",
    "\n",
    "            plt.figure(figsize=(6, 4))\n",
    "            kde = sns.kdeplot(df_group1[\"Close\"])\n",
    "\n",
    "            x, y = kde.get_lines()[0].get_data() # 獲取 KDE 曲線數據\n",
    "            peaks, _ = find_peaks(y) # 找到局部峰值\n",
    "            if len(peaks) == 2:\n",
    "                vally = peaks[0] + y[peaks[0]:peaks[1]].argmin() # 找到谷值\n",
    "\n",
    "                if (current_price > x[vally]):\n",
    "                    total_area = simpson(y = y, x = x) # 計算總體積\n",
    "                    second_peak_area = simpson(y = y[peaks[1]:], x = x[peaks[1]:]) # 計算第二個峰值後的面積\n",
    "\n",
    "                    idx = next(idx for idx, value in enumerate(x) if value > current_price)\n",
    "                    current_area = simpson(y = y[idx:], x = x[idx:]) # 計算第二個峰值後的面積\n",
    "\n",
    "                    # 判斷是否超過總體密度的1/4\n",
    "                    if (second_peak_area > (total_area * density_threshold)) and (current_area > (total_area * density_threshold)):\n",
    "                        plt.plot(x[peaks], y[peaks], \"o\")\n",
    "                        plt.plot(x[vally], y[vally], \"o\")\n",
    "\n",
    "                        plt.axvline(x=current_price, color='r', linestyle='--')\n",
    "                        plt.title(name)\n",
    "                        plt.savefig(f'image/{name.replace(\".TW\", \"\")}.png')\n",
    "            plt.close()"
   ]
  },
  {
   "cell_type": "code",
   "execution_count": null,
   "metadata": {},
   "outputs": [],
   "source": []
  }
 ],
 "metadata": {
  "kernelspec": {
   "display_name": ".venv",
   "language": "python",
   "name": "python3"
  },
  "language_info": {
   "codemirror_mode": {
    "name": "ipython",
    "version": 3
   },
   "file_extension": ".py",
   "mimetype": "text/x-python",
   "name": "python",
   "nbconvert_exporter": "python",
   "pygments_lexer": "ipython3",
   "version": "3.10.11"
  }
 },
 "nbformat": 4,
 "nbformat_minor": 2
}
