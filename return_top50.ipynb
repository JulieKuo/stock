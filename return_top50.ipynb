{
 "cells": [
  {
   "cell_type": "code",
   "execution_count": 1,
   "metadata": {},
   "outputs": [],
   "source": [
    "import pandas as pd\n",
    "import stock_data as stock\n",
    "from tqdm import tqdm"
   ]
  },
  {
   "cell_type": "markdown",
   "metadata": {},
   "source": [
    "## Get top50"
   ]
  },
  {
   "cell_type": "code",
   "execution_count": null,
   "metadata": {},
   "outputs": [],
   "source": [
    "start = \"2010-01-01\"\n",
    "end = \"2021-12-31\"\n",
    "mode = \"all\"\n",
    "\n",
    "scrapy = stock.Scrapy()\n",
    "df0 = scrapy.get_price(start, end, mode)"
   ]
  },
  {
   "cell_type": "code",
   "execution_count": null,
   "metadata": {},
   "outputs": [],
   "source": [
    "df0[\"Date\"] = df0[\"Date\"].apply(lambda X: X.date())\n",
    "df0[\"Year\"] = df0[\"Date\"].apply(lambda X: X.year)\n",
    "g = df0.groupby([\"Symbol\", \"Year\"])\n",
    "cat = g.size().keys()\n",
    "\n",
    "data = []\n",
    "for i in tqdm(range(len(cat))):\n",
    "    sample = []\n",
    "    df1 = g.get_group(cat[i])\n",
    "    min_ = df1.loc[df1[\"Close\"].idxmin()][[\"Date\", \"Close\"]].values\n",
    "    max_ = df1.loc[df1[\"Close\"].idxmax()][[\"Date\", \"Close\"]].values\n",
    "    return_ = (df1[\"Close\"].max() - df1[\"Close\"].min()) / df1[\"Close\"].min()\n",
    "\n",
    "    sample.extend(list(cat[i]))\n",
    "    sample.extend(min_)\n",
    "    sample.extend(max_)\n",
    "    sample.append(return_)\n",
    "    data.append(sample)\n",
    "df = pd.DataFrame(data, columns = [\"symbol\", \"year\", \"min_date\", \"min_price\", \"max_date\", \"max_price\", \"return\"])\n",
    "df"
   ]
  },
  {
   "cell_type": "code",
   "execution_count": null,
   "metadata": {},
   "outputs": [],
   "source": [
    "df[\"market\"] = df[\"symbol\"].apply(lambda X: X.split(\".\")[-1])\n",
    "df[\"symbol\"] = df[\"symbol\"].str[:4]\n",
    "df = df.query(\"min_price >= 5\")\n",
    "df = df.reset_index(drop = True)\n",
    "df"
   ]
  },
  {
   "cell_type": "code",
   "execution_count": null,
   "metadata": {},
   "outputs": [],
   "source": [
    "df = df.query(\"max_date > min_date\")\n",
    "df = df.reset_index(drop = True)\n",
    "df"
   ]
  },
  {
   "cell_type": "code",
   "execution_count": null,
   "metadata": {},
   "outputs": [],
   "source": [
    "g = df.groupby([\"year\", \"market\"])\n",
    "cat = g.size().keys()\n",
    "\n",
    "df2 = pd.DataFrame()\n",
    "for i in tqdm(range(len(cat))):\n",
    "    df1 = g.get_group(cat[i])\n",
    "    df2 = pd.concat([df2, df1.nlargest(50, \"return\")], ignore_index = True)\n",
    "df2 = df2.sort_values([\"year\", \"market\", \"return\"])\n",
    "df2 = df2[['year', 'market', 'symbol', 'min_date', 'min_price', 'max_date', 'max_price', 'return']]\n",
    "df2[\"return\"] = df2[\"return\"].round(4)\n",
    "df2"
   ]
  },
  {
   "cell_type": "code",
   "execution_count": null,
   "metadata": {},
   "outputs": [],
   "source": [
    "df2.to_csv(\"data/top50.csv\", index = False)"
   ]
  },
  {
   "cell_type": "markdown",
   "metadata": {},
   "source": [
    "## Get financial data"
   ]
  },
  {
   "cell_type": "code",
   "execution_count": null,
   "metadata": {},
   "outputs": [],
   "source": [
    "import stock_data as stock\n",
    "\n",
    "scrapy = stock.Scrapy()\n",
    "state = scrapy.get_financial_statement(\n",
    "    type_ = 1,\n",
    "    clean = 1, \n",
    "    mode = \"all\",\n",
    "    start_year = 102, \n",
    "    end_year = 111\n",
    ")\n",
    "state.to_csv(\"data/income102_111.csv\", index = False)"
   ]
  },
  {
   "cell_type": "code",
   "execution_count": null,
   "metadata": {},
   "outputs": [],
   "source": [
    "import stock_data as stock\n",
    "\n",
    "scrapy = stock.Scrapy()\n",
    "state = scrapy.get_financial_statement(\n",
    "    type_ = 2,\n",
    "    clean = 1, \n",
    "    mode = \"all\",\n",
    "    start_year = 102, \n",
    "    end_year = 111\n",
    ")\n",
    "state.to_csv(\"data/balance102_111.csv\", index = False)"
   ]
  },
  {
   "cell_type": "markdown",
   "metadata": {},
   "source": [
    "## Merge"
   ]
  },
  {
   "cell_type": "code",
   "execution_count": 2,
   "metadata": {},
   "outputs": [
    {
     "data": {
      "text/html": [
       "<div>\n",
       "<style scoped>\n",
       "    .dataframe tbody tr th:only-of-type {\n",
       "        vertical-align: middle;\n",
       "    }\n",
       "\n",
       "    .dataframe tbody tr th {\n",
       "        vertical-align: top;\n",
       "    }\n",
       "\n",
       "    .dataframe thead th {\n",
       "        text-align: right;\n",
       "    }\n",
       "</style>\n",
       "<table border=\"1\" class=\"dataframe\">\n",
       "  <thead>\n",
       "    <tr style=\"text-align: right;\">\n",
       "      <th></th>\n",
       "      <th>year</th>\n",
       "      <th>market</th>\n",
       "      <th>symbol</th>\n",
       "      <th>min_date</th>\n",
       "      <th>min_price</th>\n",
       "      <th>max_date</th>\n",
       "      <th>max_price</th>\n",
       "      <th>return</th>\n",
       "    </tr>\n",
       "  </thead>\n",
       "  <tbody>\n",
       "    <tr>\n",
       "      <th>400</th>\n",
       "      <td>2014</td>\n",
       "      <td>TW</td>\n",
       "      <td>1256</td>\n",
       "      <td>2014-01-13</td>\n",
       "      <td>120.56</td>\n",
       "      <td>2014-07-01</td>\n",
       "      <td>245.46</td>\n",
       "      <td>1.0360</td>\n",
       "    </tr>\n",
       "    <tr>\n",
       "      <th>401</th>\n",
       "      <td>2014</td>\n",
       "      <td>TW</td>\n",
       "      <td>3038</td>\n",
       "      <td>2014-01-06</td>\n",
       "      <td>5.79</td>\n",
       "      <td>2014-07-17</td>\n",
       "      <td>11.80</td>\n",
       "      <td>1.0380</td>\n",
       "    </tr>\n",
       "    <tr>\n",
       "      <th>402</th>\n",
       "      <td>2014</td>\n",
       "      <td>TW</td>\n",
       "      <td>6409</td>\n",
       "      <td>2014-02-17</td>\n",
       "      <td>125.37</td>\n",
       "      <td>2014-12-16</td>\n",
       "      <td>255.85</td>\n",
       "      <td>1.0408</td>\n",
       "    </tr>\n",
       "    <tr>\n",
       "      <th>403</th>\n",
       "      <td>2014</td>\n",
       "      <td>TW</td>\n",
       "      <td>4106</td>\n",
       "      <td>2014-02-05</td>\n",
       "      <td>31.75</td>\n",
       "      <td>2014-12-23</td>\n",
       "      <td>65.30</td>\n",
       "      <td>1.0567</td>\n",
       "    </tr>\n",
       "    <tr>\n",
       "      <th>404</th>\n",
       "      <td>2014</td>\n",
       "      <td>TW</td>\n",
       "      <td>4994</td>\n",
       "      <td>2014-02-13</td>\n",
       "      <td>79.65</td>\n",
       "      <td>2014-08-12</td>\n",
       "      <td>164.43</td>\n",
       "      <td>1.0644</td>\n",
       "    </tr>\n",
       "  </tbody>\n",
       "</table>\n",
       "</div>"
      ],
      "text/plain": [
       "     year market  symbol    min_date  min_price    max_date  max_price  return\n",
       "400  2014     TW    1256  2014-01-13     120.56  2014-07-01     245.46  1.0360\n",
       "401  2014     TW    3038  2014-01-06       5.79  2014-07-17      11.80  1.0380\n",
       "402  2014     TW    6409  2014-02-17     125.37  2014-12-16     255.85  1.0408\n",
       "403  2014     TW    4106  2014-02-05      31.75  2014-12-23      65.30  1.0567\n",
       "404  2014     TW    4994  2014-02-13      79.65  2014-08-12     164.43  1.0644"
      ]
     },
     "execution_count": 2,
     "metadata": {},
     "output_type": "execute_result"
    }
   ],
   "source": [
    "df1 = pd.read_csv(\"data/top50.csv\")\n",
    "df1 = df1.query(\"year >= 2014\")\n",
    "df1.head()"
   ]
  },
  {
   "cell_type": "code",
   "execution_count": 3,
   "metadata": {},
   "outputs": [
    {
     "data": {
      "text/html": [
       "<div>\n",
       "<style scoped>\n",
       "    .dataframe tbody tr th:only-of-type {\n",
       "        vertical-align: middle;\n",
       "    }\n",
       "\n",
       "    .dataframe tbody tr th {\n",
       "        vertical-align: top;\n",
       "    }\n",
       "\n",
       "    .dataframe thead th {\n",
       "        text-align: right;\n",
       "    }\n",
       "</style>\n",
       "<table border=\"1\" class=\"dataframe\">\n",
       "  <thead>\n",
       "    <tr style=\"text-align: right;\">\n",
       "      <th></th>\n",
       "      <th>year</th>\n",
       "      <th>symbol</th>\n",
       "      <th>eps</th>\n",
       "    </tr>\n",
       "  </thead>\n",
       "  <tbody>\n",
       "    <tr>\n",
       "      <th>0</th>\n",
       "      <td>2013</td>\n",
       "      <td>1101</td>\n",
       "      <td>2.72</td>\n",
       "    </tr>\n",
       "    <tr>\n",
       "      <th>1</th>\n",
       "      <td>2014</td>\n",
       "      <td>1101</td>\n",
       "      <td>2.93</td>\n",
       "    </tr>\n",
       "    <tr>\n",
       "      <th>2</th>\n",
       "      <td>2015</td>\n",
       "      <td>1101</td>\n",
       "      <td>1.56</td>\n",
       "    </tr>\n",
       "    <tr>\n",
       "      <th>3</th>\n",
       "      <td>2016</td>\n",
       "      <td>1101</td>\n",
       "      <td>1.72</td>\n",
       "    </tr>\n",
       "    <tr>\n",
       "      <th>4</th>\n",
       "      <td>2017</td>\n",
       "      <td>1101</td>\n",
       "      <td>2.03</td>\n",
       "    </tr>\n",
       "  </tbody>\n",
       "</table>\n",
       "</div>"
      ],
      "text/plain": [
       "   year  symbol   eps\n",
       "0  2013    1101  2.72\n",
       "1  2014    1101  2.93\n",
       "2  2015    1101  1.56\n",
       "3  2016    1101  1.72\n",
       "4  2017    1101  2.03"
      ]
     },
     "execution_count": 3,
     "metadata": {},
     "output_type": "execute_result"
    }
   ],
   "source": [
    "df2 = pd.read_csv(\"data/income102_111.csv\")\n",
    "df2 = df2.query(\"season == 4\")\n",
    "df2[\"year\"] = df2[\"year\"] + 1911\n",
    "df2 = df2[[\"year\", \"公司代號\", \"每股盈餘(元)\"]]\n",
    "df2.columns = [\"year\", \"symbol\", \"eps\"]\n",
    "df2 = df2.sort_values([\"symbol\", \"year\"])\n",
    "df2 = df2.reset_index(drop = True)\n",
    "df2.head()"
   ]
  },
  {
   "cell_type": "code",
   "execution_count": 4,
   "metadata": {},
   "outputs": [
    {
     "data": {
      "text/html": [
       "<div>\n",
       "<style scoped>\n",
       "    .dataframe tbody tr th:only-of-type {\n",
       "        vertical-align: middle;\n",
       "    }\n",
       "\n",
       "    .dataframe tbody tr th {\n",
       "        vertical-align: top;\n",
       "    }\n",
       "\n",
       "    .dataframe thead th {\n",
       "        text-align: right;\n",
       "    }\n",
       "</style>\n",
       "<table border=\"1\" class=\"dataframe\">\n",
       "  <thead>\n",
       "    <tr style=\"text-align: right;\">\n",
       "      <th></th>\n",
       "      <th>year</th>\n",
       "      <th>symbol</th>\n",
       "      <th>eps</th>\n",
       "      <th>last_eps</th>\n",
       "    </tr>\n",
       "  </thead>\n",
       "  <tbody>\n",
       "    <tr>\n",
       "      <th>1</th>\n",
       "      <td>2014</td>\n",
       "      <td>1101</td>\n",
       "      <td>2.93</td>\n",
       "      <td>2.72</td>\n",
       "    </tr>\n",
       "    <tr>\n",
       "      <th>2</th>\n",
       "      <td>2015</td>\n",
       "      <td>1101</td>\n",
       "      <td>1.56</td>\n",
       "      <td>2.93</td>\n",
       "    </tr>\n",
       "    <tr>\n",
       "      <th>3</th>\n",
       "      <td>2016</td>\n",
       "      <td>1101</td>\n",
       "      <td>1.72</td>\n",
       "      <td>1.56</td>\n",
       "    </tr>\n",
       "    <tr>\n",
       "      <th>4</th>\n",
       "      <td>2017</td>\n",
       "      <td>1101</td>\n",
       "      <td>2.03</td>\n",
       "      <td>1.72</td>\n",
       "    </tr>\n",
       "    <tr>\n",
       "      <th>5</th>\n",
       "      <td>2018</td>\n",
       "      <td>1101</td>\n",
       "      <td>4.37</td>\n",
       "      <td>2.03</td>\n",
       "    </tr>\n",
       "  </tbody>\n",
       "</table>\n",
       "</div>"
      ],
      "text/plain": [
       "   year  symbol   eps  last_eps\n",
       "1  2014    1101  2.93      2.72\n",
       "2  2015    1101  1.56      2.93\n",
       "3  2016    1101  1.72      1.56\n",
       "4  2017    1101  2.03      1.72\n",
       "5  2018    1101  4.37      2.03"
      ]
     },
     "execution_count": 4,
     "metadata": {},
     "output_type": "execute_result"
    }
   ],
   "source": [
    "df2[\"last_eps\"] = df2.groupby(\"symbol\")[\"eps\"].shift()\n",
    "df2 = df2.dropna()\n",
    "df2.head()"
   ]
  },
  {
   "cell_type": "code",
   "execution_count": 5,
   "metadata": {},
   "outputs": [
    {
     "data": {
      "text/html": [
       "<div>\n",
       "<style scoped>\n",
       "    .dataframe tbody tr th:only-of-type {\n",
       "        vertical-align: middle;\n",
       "    }\n",
       "\n",
       "    .dataframe tbody tr th {\n",
       "        vertical-align: top;\n",
       "    }\n",
       "\n",
       "    .dataframe thead th {\n",
       "        text-align: right;\n",
       "    }\n",
       "</style>\n",
       "<table border=\"1\" class=\"dataframe\">\n",
       "  <thead>\n",
       "    <tr style=\"text-align: right;\">\n",
       "      <th></th>\n",
       "      <th>year</th>\n",
       "      <th>market</th>\n",
       "      <th>symbol</th>\n",
       "      <th>min_date</th>\n",
       "      <th>min_price</th>\n",
       "      <th>max_date</th>\n",
       "      <th>max_price</th>\n",
       "      <th>return</th>\n",
       "      <th>eps</th>\n",
       "      <th>last_eps</th>\n",
       "    </tr>\n",
       "  </thead>\n",
       "  <tbody>\n",
       "    <tr>\n",
       "      <th>0</th>\n",
       "      <td>2014</td>\n",
       "      <td>TW</td>\n",
       "      <td>1256</td>\n",
       "      <td>2014-01-13</td>\n",
       "      <td>120.56</td>\n",
       "      <td>2014-07-01</td>\n",
       "      <td>245.46</td>\n",
       "      <td>1.0360</td>\n",
       "      <td>9.85</td>\n",
       "      <td>12.27</td>\n",
       "    </tr>\n",
       "    <tr>\n",
       "      <th>1</th>\n",
       "      <td>2014</td>\n",
       "      <td>TW</td>\n",
       "      <td>3038</td>\n",
       "      <td>2014-01-06</td>\n",
       "      <td>5.79</td>\n",
       "      <td>2014-07-17</td>\n",
       "      <td>11.80</td>\n",
       "      <td>1.0380</td>\n",
       "      <td>0.79</td>\n",
       "      <td>0.23</td>\n",
       "    </tr>\n",
       "    <tr>\n",
       "      <th>2</th>\n",
       "      <td>2014</td>\n",
       "      <td>TW</td>\n",
       "      <td>6409</td>\n",
       "      <td>2014-02-17</td>\n",
       "      <td>125.37</td>\n",
       "      <td>2014-12-16</td>\n",
       "      <td>255.85</td>\n",
       "      <td>1.0408</td>\n",
       "      <td>14.33</td>\n",
       "      <td>10.20</td>\n",
       "    </tr>\n",
       "    <tr>\n",
       "      <th>3</th>\n",
       "      <td>2014</td>\n",
       "      <td>TW</td>\n",
       "      <td>4106</td>\n",
       "      <td>2014-02-05</td>\n",
       "      <td>31.75</td>\n",
       "      <td>2014-12-23</td>\n",
       "      <td>65.30</td>\n",
       "      <td>1.0567</td>\n",
       "      <td>2.14</td>\n",
       "      <td>1.60</td>\n",
       "    </tr>\n",
       "    <tr>\n",
       "      <th>4</th>\n",
       "      <td>2014</td>\n",
       "      <td>TW</td>\n",
       "      <td>4994</td>\n",
       "      <td>2014-02-13</td>\n",
       "      <td>79.65</td>\n",
       "      <td>2014-08-12</td>\n",
       "      <td>164.43</td>\n",
       "      <td>1.0644</td>\n",
       "      <td>3.98</td>\n",
       "      <td>4.25</td>\n",
       "    </tr>\n",
       "  </tbody>\n",
       "</table>\n",
       "</div>"
      ],
      "text/plain": [
       "   year market  symbol    min_date  min_price    max_date  max_price  return  \\\n",
       "0  2014     TW    1256  2014-01-13     120.56  2014-07-01     245.46  1.0360   \n",
       "1  2014     TW    3038  2014-01-06       5.79  2014-07-17      11.80  1.0380   \n",
       "2  2014     TW    6409  2014-02-17     125.37  2014-12-16     255.85  1.0408   \n",
       "3  2014     TW    4106  2014-02-05      31.75  2014-12-23      65.30  1.0567   \n",
       "4  2014     TW    4994  2014-02-13      79.65  2014-08-12     164.43  1.0644   \n",
       "\n",
       "     eps  last_eps  \n",
       "0   9.85     12.27  \n",
       "1   0.79      0.23  \n",
       "2  14.33     10.20  \n",
       "3   2.14      1.60  \n",
       "4   3.98      4.25  "
      ]
     },
     "execution_count": 5,
     "metadata": {},
     "output_type": "execute_result"
    }
   ],
   "source": [
    "df = pd.merge(df1, df2, left_on = [\"year\", \"symbol\"], right_on = [\"year\", \"symbol\"], how = \"left\")\n",
    "df = df.dropna()\n",
    "df = df.reset_index(drop = True)\n",
    "df.head()"
   ]
  },
  {
   "cell_type": "code",
   "execution_count": 6,
   "metadata": {},
   "outputs": [],
   "source": [
    "df.to_excel(\"data/top50_1.xlsx\", index = False)"
   ]
  },
  {
   "cell_type": "markdown",
   "metadata": {},
   "source": [
    "## Analysis"
   ]
  },
  {
   "cell_type": "code",
   "execution_count": 7,
   "metadata": {},
   "outputs": [],
   "source": [
    "import matplotlib.pyplot as plt\n",
    "import seaborn as sns"
   ]
  },
  {
   "cell_type": "code",
   "execution_count": 8,
   "metadata": {},
   "outputs": [
    {
     "data": {
      "text/html": [
       "<div>\n",
       "<style scoped>\n",
       "    .dataframe tbody tr th:only-of-type {\n",
       "        vertical-align: middle;\n",
       "    }\n",
       "\n",
       "    .dataframe tbody tr th {\n",
       "        vertical-align: top;\n",
       "    }\n",
       "\n",
       "    .dataframe thead th {\n",
       "        text-align: right;\n",
       "    }\n",
       "</style>\n",
       "<table border=\"1\" class=\"dataframe\">\n",
       "  <thead>\n",
       "    <tr style=\"text-align: right;\">\n",
       "      <th></th>\n",
       "      <th>year</th>\n",
       "      <th>market</th>\n",
       "      <th>symbol</th>\n",
       "      <th>min_date</th>\n",
       "      <th>min_price</th>\n",
       "      <th>max_date</th>\n",
       "      <th>max_price</th>\n",
       "      <th>return</th>\n",
       "      <th>eps</th>\n",
       "      <th>last_eps</th>\n",
       "      <th>eps_return</th>\n",
       "    </tr>\n",
       "  </thead>\n",
       "  <tbody>\n",
       "    <tr>\n",
       "      <th>0</th>\n",
       "      <td>2014</td>\n",
       "      <td>TW</td>\n",
       "      <td>1256</td>\n",
       "      <td>2014-01-13</td>\n",
       "      <td>120.56</td>\n",
       "      <td>2014-07-01</td>\n",
       "      <td>245.46</td>\n",
       "      <td>1.0360</td>\n",
       "      <td>9.85</td>\n",
       "      <td>12.27</td>\n",
       "      <td>0.802771</td>\n",
       "    </tr>\n",
       "    <tr>\n",
       "      <th>1</th>\n",
       "      <td>2014</td>\n",
       "      <td>TW</td>\n",
       "      <td>3038</td>\n",
       "      <td>2014-01-06</td>\n",
       "      <td>5.79</td>\n",
       "      <td>2014-07-17</td>\n",
       "      <td>11.80</td>\n",
       "      <td>1.0380</td>\n",
       "      <td>0.79</td>\n",
       "      <td>0.23</td>\n",
       "      <td>3.434783</td>\n",
       "    </tr>\n",
       "    <tr>\n",
       "      <th>2</th>\n",
       "      <td>2014</td>\n",
       "      <td>TW</td>\n",
       "      <td>6409</td>\n",
       "      <td>2014-02-17</td>\n",
       "      <td>125.37</td>\n",
       "      <td>2014-12-16</td>\n",
       "      <td>255.85</td>\n",
       "      <td>1.0408</td>\n",
       "      <td>14.33</td>\n",
       "      <td>10.20</td>\n",
       "      <td>1.404902</td>\n",
       "    </tr>\n",
       "  </tbody>\n",
       "</table>\n",
       "</div>"
      ],
      "text/plain": [
       "   year market  symbol    min_date  min_price    max_date  max_price  return  \\\n",
       "0  2014     TW    1256  2014-01-13     120.56  2014-07-01     245.46  1.0360   \n",
       "1  2014     TW    3038  2014-01-06       5.79  2014-07-17      11.80  1.0380   \n",
       "2  2014     TW    6409  2014-02-17     125.37  2014-12-16     255.85  1.0408   \n",
       "\n",
       "     eps  last_eps  eps_return  \n",
       "0   9.85     12.27    0.802771  \n",
       "1   0.79      0.23    3.434783  \n",
       "2  14.33     10.20    1.404902  "
      ]
     },
     "execution_count": 8,
     "metadata": {},
     "output_type": "execute_result"
    }
   ],
   "source": [
    "df[\"eps_return\"] = df[\"eps\"] / df[\"last_eps\"]\n",
    "df.head(3)"
   ]
  },
  {
   "cell_type": "code",
   "execution_count": 9,
   "metadata": {},
   "outputs": [
    {
     "data": {
      "text/plain": [
       "<AxesSubplot:xlabel='eps_return', ylabel='return'>"
      ]
     },
     "execution_count": 9,
     "metadata": {},
     "output_type": "execute_result"
    },
    {
     "data": {
      "image/png": "[encoded data removed]",
      "text/plain": [
       "<Figure size 1440x720 with 1 Axes>"
      ]
     },
     "metadata": {
      "needs_background": "light"
     },
     "output_type": "display_data"
    }
   ],
   "source": [
    "plt.figure(figsize = (20, 10))\n",
    "sns.color_palette(\"tab10\")\n",
    "sns.scatterplot(x = \"eps_return\", y = \"return\", data = df, hue = \"year\", palette = \"tab10\")"
   ]
  },
  {
   "cell_type": "code",
   "execution_count": 10,
   "metadata": {},
   "outputs": [
    {
     "data": {
      "text/html": [
       "<div>\n",
       "<style scoped>\n",
       "    .dataframe tbody tr th:only-of-type {\n",
       "        vertical-align: middle;\n",
       "    }\n",
       "\n",
       "    .dataframe tbody tr th {\n",
       "        vertical-align: top;\n",
       "    }\n",
       "\n",
       "    .dataframe thead th {\n",
       "        text-align: right;\n",
       "    }\n",
       "</style>\n",
       "<table border=\"1\" class=\"dataframe\">\n",
       "  <thead>\n",
       "    <tr style=\"text-align: right;\">\n",
       "      <th></th>\n",
       "      <th>year</th>\n",
       "      <th>market</th>\n",
       "      <th>symbol</th>\n",
       "      <th>min_date</th>\n",
       "      <th>min_price</th>\n",
       "      <th>max_date</th>\n",
       "      <th>max_price</th>\n",
       "      <th>return</th>\n",
       "      <th>eps</th>\n",
       "      <th>last_eps</th>\n",
       "      <th>eps_return</th>\n",
       "    </tr>\n",
       "  </thead>\n",
       "  <tbody>\n",
       "    <tr>\n",
       "      <th>391</th>\n",
       "      <td>2017</td>\n",
       "      <td>TWO</td>\n",
       "      <td>4907</td>\n",
       "      <td>2017-01-04</td>\n",
       "      <td>10.45</td>\n",
       "      <td>2017-10-23</td>\n",
       "      <td>44.8</td>\n",
       "      <td>3.2871</td>\n",
       "      <td>7.23</td>\n",
       "      <td>-0.02</td>\n",
       "      <td>-361.5</td>\n",
       "    </tr>\n",
       "  </tbody>\n",
       "</table>\n",
       "</div>"
      ],
      "text/plain": [
       "     year market  symbol    min_date  min_price    max_date  max_price  \\\n",
       "391  2017    TWO    4907  2017-01-04      10.45  2017-10-23       44.8   \n",
       "\n",
       "     return   eps  last_eps  eps_return  \n",
       "391  3.2871  7.23     -0.02      -361.5  "
      ]
     },
     "execution_count": 10,
     "metadata": {},
     "output_type": "execute_result"
    }
   ],
   "source": [
    "df[df[\"eps_return\"] < -200]"
   ]
  },
  {
   "cell_type": "code",
   "execution_count": null,
   "metadata": {},
   "outputs": [],
   "source": []
  }
 ],
 "metadata": {
  "kernelspec": {
   "display_name": "Python 3.8.10 ('.venv': venv)",
   "language": "python",
   "name": "python3"
  },
  "language_info": {
   "codemirror_mode": {
    "name": "ipython",
    "version": 3
   },
   "file_extension": ".py",
   "mimetype": "text/x-python",
   "name": "python",
   "nbconvert_exporter": "python",
   "pygments_lexer": "ipython3",
   "version": "3.8.10"
  },
  "orig_nbformat": 4,
  "vscode": {
   "interpreter": {
    "hash": "6c2898c30be5f73b03e044cf4b0ab3750666a8191d61a4c93b022a132c823988"
   }
  }
 },
 "nbformat": 4,
 "nbformat_minor": 2
}
