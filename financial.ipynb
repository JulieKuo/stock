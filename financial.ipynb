{
 "cells": [
  {
   "cell_type": "code",
   "execution_count": 1,
   "metadata": {},
   "outputs": [],
   "source": [
    "import requests\n",
    "import pandas as pd\n",
    "import numpy as np\n",
    "\n",
    "def financial_statement(year, season, type='綜合損益彙總表'):\n",
    "\n",
    "    if year >= 1000:\n",
    "        year -= 1911\n",
    "\n",
    "    if type == '綜合損益彙總表':\n",
    "        url = 'https://mops.twse.com.tw/mops/web/ajax_t163sb04'\n",
    "    elif type == '資產負債彙總表':\n",
    "        url = 'https://mops.twse.com.tw/mops/web/ajax_t163sb05'\n",
    "    elif type == '營益分析彙總表':\n",
    "        url = 'https://mops.twse.com.tw/mops/web/ajax_t163sb06'\n",
    "    else:\n",
    "        print('type does not match')\n",
    "    \n",
    "    data = {\n",
    "        'encodeURIComponent':1,\n",
    "        'step':1,\n",
    "        'firstin':1,\n",
    "        'off':1,\n",
    "        'TYPEK':'sii',\n",
    "        'year':str(year),\n",
    "        'season':str(season),\n",
    "    }\n",
    "\n",
    "    r = requests.post(url, data = data)\n",
    "\n",
    "    r.encoding = 'utf8'\n",
    "    dfs = pd.read_html(r.text, header=None)\n",
    "\n",
    "    return pd.concat(dfs[1:], axis=0, sort=False)\\\n",
    "             .set_index(['公司代號'])\\\n",
    "             .apply(lambda s: pd.to_numeric(s, errors='ceorce'))"
   ]
  },
  {
   "cell_type": "code",
   "execution_count": 7,
   "metadata": {},
   "outputs": [],
   "source": [
    "year = 111\n",
    "season = 1\n",
    "type = '綜合損益彙總表'"
   ]
  },
  {
   "cell_type": "code",
   "execution_count": 8,
   "metadata": {},
   "outputs": [],
   "source": [
    "if year >= 1000:\n",
    "    year -= 1911\n",
    "\n",
    "if type == '綜合損益彙總表':\n",
    "    url = 'https://mops.twse.com.tw/mops/web/ajax_t163sb04'\n",
    "elif type == '資產負債彙總表':\n",
    "    url = 'https://mops.twse.com.tw/mops/web/ajax_t163sb05'\n",
    "elif type == '營益分析彙總表':\n",
    "    url = 'https://mops.twse.com.tw/mops/web/ajax_t163sb06'\n",
    "else:\n",
    "    print('type does not match')\n",
    "\n",
    "r = requests.post(url, {\n",
    "    'encodeURIComponent':1,\n",
    "    'step':1,\n",
    "    'firstin':1,\n",
    "    'off':1,\n",
    "    'TYPEK':'sii',\n",
    "    'year':str(year),\n",
    "    'season':str(season),\n",
    "})\n",
    "\n",
    "r.encoding = 'utf8'\n",
    "dfs = pd.read_html(r.text, header=None)"
   ]
  },
  {
   "cell_type": "code",
   "execution_count": 11,
   "metadata": {},
   "outputs": [],
   "source": [
    "df = pd.concat(dfs[1:], axis=0, sort=False)"
   ]
  },
  {
   "cell_type": "code",
   "execution_count": 19,
   "metadata": {},
   "outputs": [
    {
     "data": {
      "text/plain": [
       "本期淨利（淨損）       25\n",
       "本期稅後淨利（淨損）    942\n",
       "dtype: int64"
      ]
     },
     "execution_count": 19,
     "metadata": {},
     "output_type": "execute_result"
    }
   ],
   "source": [
    "df[[\"本期淨利（淨損）\", \"本期稅後淨利（淨損）\"]].isnull().sum()"
   ]
  },
  {
   "cell_type": "code",
   "execution_count": 21,
   "metadata": {},
   "outputs": [
    {
     "data": {
      "text/plain": [
       "(967, 57)"
      ]
     },
     "execution_count": 21,
     "metadata": {},
     "output_type": "execute_result"
    }
   ],
   "source": [
    "df.shape"
   ]
  }
 ],
 "metadata": {
  "kernelspec": {
   "display_name": "Python 3.10.6 ('.venv': venv)",
   "language": "python",
   "name": "python3"
  },
  "language_info": {
   "codemirror_mode": {
    "name": "ipython",
    "version": 3
   },
   "file_extension": ".py",
   "mimetype": "text/x-python",
   "name": "python",
   "nbconvert_exporter": "python",
   "pygments_lexer": "ipython3",
   "version": "3.10.6"
  },
  "orig_nbformat": 4,
  "vscode": {
   "interpreter": {
    "hash": "ac5c71763ce4af7d6dc057106aa53cb2371e41115cfc9dc46f264378d07e5f1a"
   }
  }
 },
 "nbformat": 4,
 "nbformat_minor": 2
}
