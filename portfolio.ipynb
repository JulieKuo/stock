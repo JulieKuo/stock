{
 "cells": [
  {
   "cell_type": "code",
   "execution_count": 1,
   "metadata": {},
   "outputs": [],
   "source": [
    "import pandas as pd\n",
    "import datetime\n",
    "import stock_data as stock\n",
    "import numpy as np\n",
    "from tqdm import tqdm"
   ]
  },
  {
   "cell_type": "markdown",
   "metadata": {},
   "source": [
    "### Get Data"
   ]
  },
  {
   "cell_type": "markdown",
   "metadata": {},
   "source": [
    "import stock_data as stock\n",
    "\n",
    "scrapy = stock.Scrapy()\n",
    "today = datetime.datetime.today()\n",
    "end = f\"{today.year}-12-31\""
   ]
  },
  {
   "cell_type": "markdown",
   "metadata": {},
   "source": [
    "price = scrapy.get_price(\n",
    "    start = \"2013-01-01\",\n",
    "    end = end,\n",
    "    mode = \"listed\"\n",
    ")\n",
    "price.to_csv(\"data/price_2013_2023.csv\", index = False)\n",
    "print(f\"length = {len(price)}\")\n",
    "price.head()"
   ]
  },
  {
   "cell_type": "markdown",
   "metadata": {},
   "source": [
    "twiis = scrapy.get_price(\n",
    "    start = \"2013-01-01\",\n",
    "    end = end,\n",
    "    mode = \"other\",\n",
    "    query = \"^TWII\"\n",
    ")\n",
    "twiis.to_csv(\"data/twii_2013_2023.csv\", index = False)"
   ]
  },
  {
   "cell_type": "markdown",
   "metadata": {},
   "source": [
    "ratio = scrapy.get_financial_statement(\n",
    "    type_ = 3,\n",
    "    clean = 1, \n",
    "    mode = \"listed\",\n",
    "    start_year = today.year-1911-10, \n",
    "    end_year = today.year-1911-1\n",
    ")\n",
    "ratio.to_csv(\"data/ratio_2013_2022.csv\", index = False)\n",
    "print(f\"length = {len(ratio)}\")\n",
    "ratio.head()"
   ]
  },
  {
   "cell_type": "markdown",
   "metadata": {},
   "source": [
    "income = scrapy.get_financial_statement(\n",
    "    type_ = 1,\n",
    "    clean = 1, \n",
    "    mode = \"listed\",\n",
    "    start_year = today.year-1911-10, \n",
    "    end_year = today.year-1911-1\n",
    ")\n",
    "income.to_csv(\"data/income_2013_2022.csv\", index = False)\n",
    "print(f\"length = {len(income)}\")\n",
    "income.head()"
   ]
  },
  {
   "cell_type": "markdown",
   "metadata": {},
   "source": [
    "asset = scrapy.get_financial_statement(\n",
    "    type_ = 2,\n",
    "    clean = 1, \n",
    "    mode = \"listed\",\n",
    "    start_year = today.year-1911-10, \n",
    "    end_year = today.year-1911-1\n",
    ")\n",
    "asset.to_csv(\"data/asset_2013_2022.csv\", index = False)\n",
    "print(f\"length = {len(asset)}\")\n",
    "asset.head()"
   ]
  },
  {
   "cell_type": "markdown",
   "metadata": {},
   "source": [
    "### Load Data"
   ]
  },
  {
   "cell_type": "code",
   "execution_count": 2,
   "metadata": {},
   "outputs": [
    {
     "name": "stdout",
     "output_type": "stream",
     "text": [
      "twii_raw length = 2617\n",
      "price length = 2388161\n",
      "ratio length = 35151\n",
      "income_raw length = 36353\n",
      "asset_raw length = 36353\n"
     ]
    }
   ],
   "source": [
    "twii_raw = pd.read_csv(\"data/twii_2013_2023.csv\", parse_dates = [\"Date\"])\n",
    "price_raw = pd.read_csv(\"data/price_2013_2023.csv\", parse_dates = [\"Date\"])\n",
    "ratio_raw = pd.read_csv(\"data/ratio_2013_2022.csv\")\n",
    "income_raw = pd.read_csv(\"data/income_2013_2022.csv\")\n",
    "asset_raw = pd.read_csv(\"data/asset_2013_2022.csv\")\n",
    "print(f\"twii_raw length = {len(twii_raw)}\")\n",
    "print(f\"price length = {len(price_raw)}\")\n",
    "print(f\"ratio length = {len(ratio_raw)}\")\n",
    "print(f\"income_raw length = {len(income_raw)}\")\n",
    "print(f\"asset_raw length = {len(asset_raw)}\")"
   ]
  },
  {
   "cell_type": "markdown",
   "metadata": {},
   "source": [
    "#### Clean"
   ]
  },
  {
   "cell_type": "code",
   "execution_count": 3,
   "metadata": {},
   "outputs": [],
   "source": [
    "def price(df):\n",
    "    df = df.drop([\"Open\", \"High\", \"Low\", \"Close\"], axis = 1)\n",
    "    df = df.rename(columns = {\"Adj Close\": \"Close\"})\n",
    "    df[\"Year\"] = df[\"Date\"].dt.year\n",
    "    return df"
   ]
  },
  {
   "cell_type": "code",
   "execution_count": 4,
   "metadata": {},
   "outputs": [
    {
     "data": {
      "text/html": [
       "<div>\n",
       "<style scoped>\n",
       "    .dataframe tbody tr th:only-of-type {\n",
       "        vertical-align: middle;\n",
       "    }\n",
       "\n",
       "    .dataframe tbody tr th {\n",
       "        vertical-align: top;\n",
       "    }\n",
       "\n",
       "    .dataframe thead th {\n",
       "        text-align: right;\n",
       "    }\n",
       "</style>\n",
       "<table border=\"1\" class=\"dataframe\">\n",
       "  <thead>\n",
       "    <tr style=\"text-align: right;\">\n",
       "      <th></th>\n",
       "      <th>Symbol</th>\n",
       "      <th>Date</th>\n",
       "      <th>Close</th>\n",
       "      <th>Volume</th>\n",
       "      <th>Year</th>\n",
       "    </tr>\n",
       "  </thead>\n",
       "  <tbody>\n",
       "    <tr>\n",
       "      <th>0</th>\n",
       "      <td>^TWII</td>\n",
       "      <td>2013-01-02</td>\n",
       "      <td>7779.19</td>\n",
       "      <td>2194600</td>\n",
       "      <td>2013</td>\n",
       "    </tr>\n",
       "    <tr>\n",
       "      <th>1</th>\n",
       "      <td>^TWII</td>\n",
       "      <td>2013-01-03</td>\n",
       "      <td>7836.81</td>\n",
       "      <td>2964400</td>\n",
       "      <td>2013</td>\n",
       "    </tr>\n",
       "    <tr>\n",
       "      <th>2</th>\n",
       "      <td>^TWII</td>\n",
       "      <td>2013-01-04</td>\n",
       "      <td>7805.96</td>\n",
       "      <td>2696800</td>\n",
       "      <td>2013</td>\n",
       "    </tr>\n",
       "  </tbody>\n",
       "</table>\n",
       "</div>"
      ],
      "text/plain": [
       "  Symbol       Date    Close   Volume  Year\n",
       "0  ^TWII 2013-01-02  7779.19  2194600  2013\n",
       "1  ^TWII 2013-01-03  7836.81  2964400  2013\n",
       "2  ^TWII 2013-01-04  7805.96  2696800  2013"
      ]
     },
     "execution_count": 4,
     "metadata": {},
     "output_type": "execute_result"
    }
   ],
   "source": [
    "twii_raw = price(twii_raw)\n",
    "twii_raw.head(3)"
   ]
  },
  {
   "cell_type": "code",
   "execution_count": 5,
   "metadata": {},
   "outputs": [
    {
     "data": {
      "text/html": [
       "<div>\n",
       "<style scoped>\n",
       "    .dataframe tbody tr th:only-of-type {\n",
       "        vertical-align: middle;\n",
       "    }\n",
       "\n",
       "    .dataframe tbody tr th {\n",
       "        vertical-align: top;\n",
       "    }\n",
       "\n",
       "    .dataframe thead th {\n",
       "        text-align: right;\n",
       "    }\n",
       "</style>\n",
       "<table border=\"1\" class=\"dataframe\">\n",
       "  <thead>\n",
       "    <tr style=\"text-align: right;\">\n",
       "      <th></th>\n",
       "      <th>Symbol</th>\n",
       "      <th>Date</th>\n",
       "      <th>Close</th>\n",
       "      <th>Volume</th>\n",
       "      <th>Year</th>\n",
       "    </tr>\n",
       "  </thead>\n",
       "  <tbody>\n",
       "    <tr>\n",
       "      <th>0</th>\n",
       "      <td>1101</td>\n",
       "      <td>2013-01-02</td>\n",
       "      <td>16.79</td>\n",
       "      <td>8646455.0</td>\n",
       "      <td>2013</td>\n",
       "    </tr>\n",
       "    <tr>\n",
       "      <th>1</th>\n",
       "      <td>1102</td>\n",
       "      <td>2013-01-02</td>\n",
       "      <td>20.13</td>\n",
       "      <td>2955776.0</td>\n",
       "      <td>2013</td>\n",
       "    </tr>\n",
       "    <tr>\n",
       "      <th>2</th>\n",
       "      <td>1103</td>\n",
       "      <td>2013-01-02</td>\n",
       "      <td>9.09</td>\n",
       "      <td>319260.0</td>\n",
       "      <td>2013</td>\n",
       "    </tr>\n",
       "  </tbody>\n",
       "</table>\n",
       "</div>"
      ],
      "text/plain": [
       "  Symbol       Date  Close     Volume  Year\n",
       "0   1101 2013-01-02  16.79  8646455.0  2013\n",
       "1   1102 2013-01-02  20.13  2955776.0  2013\n",
       "2   1103 2013-01-02   9.09   319260.0  2013"
      ]
     },
     "execution_count": 5,
     "metadata": {},
     "output_type": "execute_result"
    }
   ],
   "source": [
    "price_raw[\"Symbol\"] = price_raw[\"Symbol\"].str.split(\".\").str[0]\n",
    "price_raw = price_raw.sort_values([\"Date\", \"Symbol\"]).reset_index(drop = True)\n",
    "price_raw = price(price_raw)\n",
    "price_raw.head(3)"
   ]
  },
  {
   "cell_type": "code",
   "execution_count": 6,
   "metadata": {},
   "outputs": [],
   "source": [
    "def statement(df, keep_col, new_col_name):\n",
    "    df = df.iloc[:, keep_col]\n",
    "    df.columns = new_col_name\n",
    "    df = df.sort_values([\"Year\", \"Season\", \"Symbol\"]).reset_index(drop = True)\n",
    "    df[\"Symbol\"] = df[\"Symbol\"].astype(str)\n",
    "    df[\"Year\"] = df[\"Year\"] + 1911\n",
    "\n",
    "    return df"
   ]
  },
  {
   "cell_type": "code",
   "execution_count": 7,
   "metadata": {},
   "outputs": [
    {
     "data": {
      "text/html": [
       "<div>\n",
       "<style scoped>\n",
       "    .dataframe tbody tr th:only-of-type {\n",
       "        vertical-align: middle;\n",
       "    }\n",
       "\n",
       "    .dataframe tbody tr th {\n",
       "        vertical-align: top;\n",
       "    }\n",
       "\n",
       "    .dataframe thead th {\n",
       "        text-align: right;\n",
       "    }\n",
       "</style>\n",
       "<table border=\"1\" class=\"dataframe\">\n",
       "  <thead>\n",
       "    <tr style=\"text-align: right;\">\n",
       "      <th></th>\n",
       "      <th>Year</th>\n",
       "      <th>Season</th>\n",
       "      <th>Symbol</th>\n",
       "      <th>Name</th>\n",
       "      <th>Sales</th>\n",
       "      <th>Gross</th>\n",
       "      <th>Operating</th>\n",
       "      <th>Net</th>\n",
       "    </tr>\n",
       "  </thead>\n",
       "  <tbody>\n",
       "    <tr>\n",
       "      <th>0</th>\n",
       "      <td>2013</td>\n",
       "      <td>1</td>\n",
       "      <td>1101</td>\n",
       "      <td>台泥</td>\n",
       "      <td>24114.05</td>\n",
       "      <td>12.95</td>\n",
       "      <td>8.40</td>\n",
       "      <td>8.29</td>\n",
       "    </tr>\n",
       "    <tr>\n",
       "      <th>1</th>\n",
       "      <td>2013</td>\n",
       "      <td>1</td>\n",
       "      <td>1102</td>\n",
       "      <td>亞泥</td>\n",
       "      <td>13931.55</td>\n",
       "      <td>6.40</td>\n",
       "      <td>2.44</td>\n",
       "      <td>9.84</td>\n",
       "    </tr>\n",
       "    <tr>\n",
       "      <th>2</th>\n",
       "      <td>2013</td>\n",
       "      <td>1</td>\n",
       "      <td>1103</td>\n",
       "      <td>嘉泥</td>\n",
       "      <td>741.19</td>\n",
       "      <td>-6.06</td>\n",
       "      <td>-20.21</td>\n",
       "      <td>8.05</td>\n",
       "    </tr>\n",
       "  </tbody>\n",
       "</table>\n",
       "</div>"
      ],
      "text/plain": [
       "   Year  Season Symbol Name     Sales  Gross  Operating   Net\n",
       "0  2013       1   1101   台泥  24114.05  12.95       8.40  8.29\n",
       "1  2013       1   1102   亞泥  13931.55   6.40       2.44  9.84\n",
       "2  2013       1   1103   嘉泥    741.19  -6.06     -20.21  8.05"
      ]
     },
     "execution_count": 7,
     "metadata": {},
     "output_type": "execute_result"
    }
   ],
   "source": [
    "ratio_raw = statement(ratio_raw, keep_col = [0,1,2,3,4,5,6,8], new_col_name = ['Year', 'Season', 'Symbol', 'Name', \"Sales\", \"Gross\", \"Operating\", \"Net\"])\n",
    "ratio_raw.head(3)"
   ]
  },
  {
   "cell_type": "code",
   "execution_count": 8,
   "metadata": {},
   "outputs": [
    {
     "data": {
      "text/html": [
       "<div>\n",
       "<style scoped>\n",
       "    .dataframe tbody tr th:only-of-type {\n",
       "        vertical-align: middle;\n",
       "    }\n",
       "\n",
       "    .dataframe tbody tr th {\n",
       "        vertical-align: top;\n",
       "    }\n",
       "\n",
       "    .dataframe thead th {\n",
       "        text-align: right;\n",
       "    }\n",
       "</style>\n",
       "<table border=\"1\" class=\"dataframe\">\n",
       "  <thead>\n",
       "    <tr style=\"text-align: right;\">\n",
       "      <th></th>\n",
       "      <th>Year</th>\n",
       "      <th>Season</th>\n",
       "      <th>Symbol</th>\n",
       "      <th>Name</th>\n",
       "      <th>Sales</th>\n",
       "      <th>Gross</th>\n",
       "      <th>Operating</th>\n",
       "      <th>Net</th>\n",
       "      <th>Total_Net</th>\n",
       "      <th>EPS</th>\n",
       "    </tr>\n",
       "  </thead>\n",
       "  <tbody>\n",
       "    <tr>\n",
       "      <th>0</th>\n",
       "      <td>2013</td>\n",
       "      <td>1</td>\n",
       "      <td>1101</td>\n",
       "      <td>台泥</td>\n",
       "      <td>24114047.0</td>\n",
       "      <td>3123872.0</td>\n",
       "      <td>2026729.0</td>\n",
       "      <td>1999624.0</td>\n",
       "      <td>3284069.0</td>\n",
       "      <td>0.38</td>\n",
       "    </tr>\n",
       "    <tr>\n",
       "      <th>1</th>\n",
       "      <td>2013</td>\n",
       "      <td>1</td>\n",
       "      <td>1102</td>\n",
       "      <td>亞泥</td>\n",
       "      <td>13931550.0</td>\n",
       "      <td>892180.0</td>\n",
       "      <td>339801.0</td>\n",
       "      <td>1371559.0</td>\n",
       "      <td>1246521.0</td>\n",
       "      <td>0.40</td>\n",
       "    </tr>\n",
       "    <tr>\n",
       "      <th>2</th>\n",
       "      <td>2013</td>\n",
       "      <td>1</td>\n",
       "      <td>1103</td>\n",
       "      <td>嘉泥</td>\n",
       "      <td>741189.0</td>\n",
       "      <td>-44905.0</td>\n",
       "      <td>-149811.0</td>\n",
       "      <td>59637.0</td>\n",
       "      <td>12307.0</td>\n",
       "      <td>0.13</td>\n",
       "    </tr>\n",
       "  </tbody>\n",
       "</table>\n",
       "</div>"
      ],
      "text/plain": [
       "   Year  Season Symbol Name       Sales      Gross  Operating        Net  \\\n",
       "0  2013       1   1101   台泥  24114047.0  3123872.0  2026729.0  1999624.0   \n",
       "1  2013       1   1102   亞泥  13931550.0   892180.0   339801.0  1371559.0   \n",
       "2  2013       1   1103   嘉泥    741189.0   -44905.0  -149811.0    59637.0   \n",
       "\n",
       "   Total_Net   EPS  \n",
       "0  3284069.0  0.38  \n",
       "1  1246521.0  0.40  \n",
       "2    12307.0  0.13  "
      ]
     },
     "execution_count": 8,
     "metadata": {},
     "output_type": "execute_result"
    }
   ],
   "source": [
    "income_raw = statement(income_raw, keep_col = [0,1,2,3,4,5,6,8,9,10], new_col_name = ['Year', 'Season', 'Symbol', 'Name', \"Sales\", \"Gross\", \"Operating\", \"Net\", \"Total_Net\", \"EPS\"])\n",
    "income_raw.head(3)"
   ]
  },
  {
   "cell_type": "code",
   "execution_count": 9,
   "metadata": {},
   "outputs": [
    {
     "data": {
      "text/html": [
       "<div>\n",
       "<style scoped>\n",
       "    .dataframe tbody tr th:only-of-type {\n",
       "        vertical-align: middle;\n",
       "    }\n",
       "\n",
       "    .dataframe tbody tr th {\n",
       "        vertical-align: top;\n",
       "    }\n",
       "\n",
       "    .dataframe thead th {\n",
       "        text-align: right;\n",
       "    }\n",
       "</style>\n",
       "<table border=\"1\" class=\"dataframe\">\n",
       "  <thead>\n",
       "    <tr style=\"text-align: right;\">\n",
       "      <th></th>\n",
       "      <th>Year</th>\n",
       "      <th>Season</th>\n",
       "      <th>Symbol</th>\n",
       "      <th>Name</th>\n",
       "      <th>Equity</th>\n",
       "    </tr>\n",
       "  </thead>\n",
       "  <tbody>\n",
       "    <tr>\n",
       "      <th>0</th>\n",
       "      <td>2013</td>\n",
       "      <td>1</td>\n",
       "      <td>1101</td>\n",
       "      <td>台泥</td>\n",
       "      <td>145365698.0</td>\n",
       "    </tr>\n",
       "    <tr>\n",
       "      <th>1</th>\n",
       "      <td>2013</td>\n",
       "      <td>1</td>\n",
       "      <td>1102</td>\n",
       "      <td>亞泥</td>\n",
       "      <td>104251999.0</td>\n",
       "    </tr>\n",
       "    <tr>\n",
       "      <th>2</th>\n",
       "      <td>2013</td>\n",
       "      <td>1</td>\n",
       "      <td>1103</td>\n",
       "      <td>嘉泥</td>\n",
       "      <td>16395990.0</td>\n",
       "    </tr>\n",
       "  </tbody>\n",
       "</table>\n",
       "</div>"
      ],
      "text/plain": [
       "   Year  Season Symbol Name       Equity\n",
       "0  2013       1   1101   台泥  145365698.0\n",
       "1  2013       1   1102   亞泥  104251999.0\n",
       "2  2013       1   1103   嘉泥   16395990.0"
      ]
     },
     "execution_count": 9,
     "metadata": {},
     "output_type": "execute_result"
    }
   ],
   "source": [
    "asset_raw = statement(asset_raw, keep_col = [0,1,2,3,14], new_col_name = ['Year', 'Season', 'Symbol', 'Name', \"Equity\"])\n",
    "asset_raw.head(3)"
   ]
  },
  {
   "cell_type": "markdown",
   "metadata": {},
   "source": [
    "### Imputer time"
   ]
  },
  {
   "cell_type": "code",
   "execution_count": 10,
   "metadata": {},
   "outputs": [],
   "source": [
    "def imputer_time(df, name):\n",
    "    df1 = pd.DataFrame()\n",
    "    g = df.groupby(\"Symbol\")\n",
    "    for group, df_group in tqdm(g, desc = name):\n",
    "        combinations = df[[\"Year\", \"Season\"]].value_counts().index\n",
    "        combinations = combinations.sort_values().to_frame(index = False)\n",
    "        df_group = pd.merge(combinations, df_group, on = [\"Year\", \"Season\"], how = \"left\")\n",
    "        df1 = pd.concat([df1, df_group], ignore_index = True)\n",
    "    df1[[\"Symbol\", \"Name\"]] = df1[[\"Symbol\", \"Name\"]].fillna(method = \"ffill\")    \n",
    "    df1 = df1.sort_values([\"Year\", \"Season\", \"Symbol\"]).reset_index(drop = True)\n",
    "\n",
    "    return df1"
   ]
  },
  {
   "cell_type": "code",
   "execution_count": 11,
   "metadata": {},
   "outputs": [
    {
     "name": "stderr",
     "output_type": "stream",
     "text": [
      "ratio: 100%|██████████| 957/957 [00:04<00:00, 206.33it/s]\n",
      "income: 100%|██████████| 983/983 [00:04<00:00, 218.95it/s]\n",
      "asset: 100%|██████████| 983/983 [00:04<00:00, 226.58it/s]"
     ]
    },
    {
     "name": "stdout",
     "output_type": "stream",
     "text": [
      "ratio length = 38280\n",
      "income_raw length = 39320\n",
      "asset_raw length = 39320\n"
     ]
    },
    {
     "name": "stderr",
     "output_type": "stream",
     "text": [
      "\n"
     ]
    }
   ],
   "source": [
    "ratio_raw  = imputer_time(df = ratio_raw,  name = \"ratio\")\n",
    "income_raw = imputer_time(df = income_raw, name = \"income\")\n",
    "asset_raw  = imputer_time(df = asset_raw,  name = \"asset\")\n",
    "\n",
    "print(f\"ratio length = {len(ratio_raw)}\")\n",
    "print(f\"income_raw length = {len(income_raw)}\")\n",
    "print(f\"asset_raw length = {len(asset_raw)}\")"
   ]
  },
  {
   "cell_type": "markdown",
   "metadata": {},
   "source": [
    "### Remove cumulative"
   ]
  },
  {
   "cell_type": "code",
   "execution_count": 12,
   "metadata": {},
   "outputs": [],
   "source": [
    "def remove_cumulative(df, name, col):\n",
    "    g1 = df.groupby(\"Symbol\")\n",
    "    df_symbol = pd.DataFrame()\n",
    "    for group1, df_group1 in tqdm(g1, desc = name):\n",
    "        g2 = df_group1.groupby(\"Year\")\n",
    "        df_year = pd.DataFrame()\n",
    "        \n",
    "        for group2, df_group2 in g2:\n",
    "            df_group2 = df_group2.reset_index(drop = True)\n",
    "            df_group2_1 = df_group2[col] - df_group2[col].shift(1)\n",
    "            df_group2_1.loc[0] = df_group2.loc[0, col]\n",
    "            df_group2[col] = df_group2_1\n",
    "            df_year = pd.concat([df_year, df_group2], ignore_index = True)\n",
    "\n",
    "        df_symbol = pd.concat([df_symbol, df_year], ignore_index = True)\n",
    "\n",
    "    df_symbol = df_symbol.sort_values([\"Year\", \"Season\", \"Symbol\"]).reset_index(drop = True)\n",
    "    \n",
    "    return df_symbol"
   ]
  },
  {
   "cell_type": "code",
   "execution_count": 13,
   "metadata": {},
   "outputs": [
    {
     "name": "stderr",
     "output_type": "stream",
     "text": [
      "ratio: 100%|██████████| 957/957 [00:14<00:00, 65.87it/s]\n",
      "income: 100%|██████████| 983/983 [00:22<00:00, 43.42it/s]\n"
     ]
    }
   ],
   "source": [
    "ratio_raw  = remove_cumulative(df = ratio_raw,  name = \"ratio\",  col = ['Sales'])\n",
    "income_raw = remove_cumulative(df = income_raw, name = \"income\", col = ['Sales', 'Gross', 'Operating', 'Net', 'Total_Net', 'EPS'])"
   ]
  },
  {
   "cell_type": "markdown",
   "metadata": {},
   "source": [
    "### Split year"
   ]
  },
  {
   "cell_type": "code",
   "execution_count": 14,
   "metadata": {},
   "outputs": [],
   "source": [
    "def split_year(df, name):\n",
    "    dfs = {}\n",
    "    g = df.groupby(\"Year\")\n",
    "    for group, df_group in tqdm(g, desc = name):\n",
    "        df_group = df_group.reset_index(drop = True)\n",
    "        dfs[group] = df_group\n",
    "    \n",
    "    return dfs"
   ]
  },
  {
   "cell_type": "code",
   "execution_count": 15,
   "metadata": {},
   "outputs": [
    {
     "name": "stderr",
     "output_type": "stream",
     "text": [
      "price: 100%|██████████| 11/11 [00:00<00:00, 44.63it/s]\n",
      "twii: 100%|██████████| 11/11 [00:00<00:00, 5498.43it/s]\n",
      "ratio: 100%|██████████| 10/10 [00:00<00:00, 2498.84it/s]\n",
      "income: 100%|██████████| 10/10 [00:00<00:00, 1999.57it/s]\n",
      "asset: 100%|██████████| 10/10 [00:00<00:00, 2498.69it/s]\n"
     ]
    }
   ],
   "source": [
    "prices  = split_year(df = price_raw,  name = \"price\")\n",
    "twiis   = split_year(df = twii_raw,   name = \"twii\")\n",
    "ratios  = split_year(df = ratio_raw,  name = \"ratio\")\n",
    "incomes = split_year(df = income_raw, name = \"income\")\n",
    "assets  = split_year(df = asset_raw,  name = \"asset\")"
   ]
  },
  {
   "cell_type": "markdown",
   "metadata": {},
   "source": [
    "### Filter stock by ratio"
   ]
  },
  {
   "cell_type": "code",
   "execution_count": 16,
   "metadata": {},
   "outputs": [
    {
     "name": "stderr",
     "output_type": "stream",
     "text": [
      "year: 100%|██████████| 8/8 [00:07<00:00,  1.09it/s]\n"
     ]
    },
    {
     "data": {
      "text/html": [
       "<div>\n",
       "<style scoped>\n",
       "    .dataframe tbody tr th:only-of-type {\n",
       "        vertical-align: middle;\n",
       "    }\n",
       "\n",
       "    .dataframe tbody tr th {\n",
       "        vertical-align: top;\n",
       "    }\n",
       "\n",
       "    .dataframe thead th {\n",
       "        text-align: right;\n",
       "    }\n",
       "</style>\n",
       "<table border=\"1\" class=\"dataframe\">\n",
       "  <thead>\n",
       "    <tr style=\"text-align: right;\">\n",
       "      <th></th>\n",
       "      <th>Year</th>\n",
       "      <th>Port_Count</th>\n",
       "      <th>Portfolio</th>\n",
       "    </tr>\n",
       "  </thead>\n",
       "  <tbody>\n",
       "    <tr>\n",
       "      <th>0</th>\n",
       "      <td>2016</td>\n",
       "      <td>18</td>\n",
       "      <td>[1227, 1477, 1536, 1702, 1708, 2231, 2317, 238...</td>\n",
       "    </tr>\n",
       "    <tr>\n",
       "      <th>1</th>\n",
       "      <td>2017</td>\n",
       "      <td>18</td>\n",
       "      <td>[1319, 1568, 1752, 1789, 2228, 2345, 2355, 248...</td>\n",
       "    </tr>\n",
       "    <tr>\n",
       "      <th>2</th>\n",
       "      <td>2018</td>\n",
       "      <td>16</td>\n",
       "      <td>[1215, 1301, 1463, 1909, 2421, 2428, 2912, 300...</td>\n",
       "    </tr>\n",
       "    <tr>\n",
       "      <th>3</th>\n",
       "      <td>2019</td>\n",
       "      <td>22</td>\n",
       "      <td>[1102, 1109, 1256, 1301, 1457, 1597, 2049, 232...</td>\n",
       "    </tr>\n",
       "    <tr>\n",
       "      <th>4</th>\n",
       "      <td>2020</td>\n",
       "      <td>17</td>\n",
       "      <td>[1102, 1470, 1477, 1514, 2458, 2904, 3034, 341...</td>\n",
       "    </tr>\n",
       "    <tr>\n",
       "      <th>5</th>\n",
       "      <td>2021</td>\n",
       "      <td>13</td>\n",
       "      <td>[1210, 1732, 1786, 2313, 2383, 2449, 2454, 304...</td>\n",
       "    </tr>\n",
       "    <tr>\n",
       "      <th>6</th>\n",
       "      <td>2022</td>\n",
       "      <td>57</td>\n",
       "      <td>[1303, 1304, 1305, 1513, 1720, 1907, 1909, 200...</td>\n",
       "    </tr>\n",
       "    <tr>\n",
       "      <th>7</th>\n",
       "      <td>2023</td>\n",
       "      <td>37</td>\n",
       "      <td>[1475, 1477, 1524, 1560, 1708, 1712, 2049, 205...</td>\n",
       "    </tr>\n",
       "  </tbody>\n",
       "</table>\n",
       "</div>"
      ],
      "text/plain": [
       "   Year  Port_Count                                          Portfolio\n",
       "0  2016          18  [1227, 1477, 1536, 1702, 1708, 2231, 2317, 238...\n",
       "1  2017          18  [1319, 1568, 1752, 1789, 2228, 2345, 2355, 248...\n",
       "2  2018          16  [1215, 1301, 1463, 1909, 2421, 2428, 2912, 300...\n",
       "3  2019          22  [1102, 1109, 1256, 1301, 1457, 1597, 2049, 232...\n",
       "4  2020          17  [1102, 1470, 1477, 1514, 2458, 2904, 3034, 341...\n",
       "5  2021          13  [1210, 1732, 1786, 2313, 2383, 2449, 2454, 304...\n",
       "6  2022          57  [1303, 1304, 1305, 1513, 1720, 1907, 1909, 200...\n",
       "7  2023          37  [1475, 1477, 1524, 1560, 1708, 1712, 2049, 205..."
      ]
     },
     "execution_count": 16,
     "metadata": {},
     "output_type": "execute_result"
    }
   ],
   "source": [
    "filter_stock = []\n",
    "for year in tqdm(range(2015, 2023), desc = \"year\"):\n",
    "    # 合併近三年財務比率\n",
    "    ratio = pd.concat([ratios[year-2], ratios[year-1], ratios[year]])\n",
    "\n",
    "    # Q4要隔年3月才會公布，只抓到Q3\n",
    "    ratio = ratio.set_index([\"Year\", \"Season\"])\n",
    "    ratio = ratio.loc[(year-2, 4) : (year, 3)].reset_index()\n",
    "    # print(f\"ratio length = {len(ratio)}\")\n",
    "\n",
    "    # 營收YOY為正，且三率三升\n",
    "    ratio1 = pd.DataFrame()\n",
    "    g = ratio.groupby(\"Symbol\")\n",
    "    for group, df_group in g:\n",
    "        df_group = df_group.reset_index(drop = True)\n",
    "        \n",
    "        # 近8季 營收、毛利率、營業利益率、稅後淨利率 > 0\n",
    "        remove_flag = (df_group.loc[:, \"Sales\":\"Net\"] < 0).any().any()\n",
    "        if remove_flag:\n",
    "            continue\n",
    "        \n",
    "        # 近四季 營收YOY > 0\n",
    "        df_group[\"Sales_pct\"] = df_group[\"Sales\"].pct_change(4).values\n",
    "        remove_flag = (df_group[\"Sales_pct\"] < 0).any()\n",
    "        if remove_flag:\n",
    "            continue\n",
    "        \n",
    "        # 近四季 三率三升\n",
    "        keep_flag = (df_group.loc[:3, \"Sales\":\"Net\"] < df_group.shift(-4).loc[:3, \"Sales\":\"Net\"]).all().all()\n",
    "        if (keep_flag) and (len(df_group) >= 4):\n",
    "            df_group = df_group.iloc[-4:].reset_index(drop = True)\n",
    "            ratio1 = pd.concat([ratio1, df_group], ignore_index = True)\n",
    "    ratio = ratio1.copy()\n",
    "    # print(f\"ratio length = {len(ratio)}\")\n",
    "\n",
    "    portfolio = ratio[\"Symbol\"].unique()\n",
    "    # print(f\"Year: {year} (Count: {len(portfolio)})\")\n",
    "    # print(f\"Portfolio: {portfolio}\")\n",
    "\n",
    "    filter_stock.append([year+1, len(portfolio), portfolio])\n",
    "\n",
    "\n",
    "filter_stock = pd.DataFrame(filter_stock, columns = [\"Year\", \"Port_Count\", \"Portfolio\"])\n",
    "filter_stock"
   ]
  },
  {
   "cell_type": "markdown",
   "metadata": {},
   "source": [
    "### Filter stock by income and asset"
   ]
  },
  {
   "cell_type": "code",
   "execution_count": null,
   "metadata": {},
   "outputs": [],
   "source": [
    "for i in range(len(filter_stock)):\n",
    "    year = filter_stock.loc[i, \"Year\"] - 1\n",
    "    income = pd.concat([incomes[year-2], incomes[year-1], incomes[year]]) # 合併近三年財報\n",
    "    portfolio = filter_stock.loc[i, \"Portfolio\"]\n",
    "    income = income.query(\"Symbol in @portfolio\").reset_index(drop = True)\n",
    "\n",
    "    # Q4要隔年3月才會公布，只抓到Q3\n",
    "    income = income.set_index([\"Year\", \"Season\"])\n",
    "    income = income.loc[(year-2, 4) : (year, 3)].reset_index()\n",
    "    # break"
   ]
  },
  {
   "cell_type": "code",
   "execution_count": null,
   "metadata": {},
   "outputs": [],
   "source": [
    "# YOY接為正\n",
    "income1 = pd.DataFrame()\n",
    "g = income.groupby(\"Symbol\")\n",
    "for group, df_group in g:\n",
    "    df_group = df_group.reset_index(drop = True)\n",
    "    break"
   ]
  },
  {
   "cell_type": "markdown",
   "metadata": {},
   "source": []
  },
  {
   "cell_type": "code",
   "execution_count": null,
   "metadata": {},
   "outputs": [],
   "source": [
    "df_group"
   ]
  },
  {
   "cell_type": "code",
   "execution_count": null,
   "metadata": {},
   "outputs": [],
   "source": []
  },
  {
   "cell_type": "code",
   "execution_count": null,
   "metadata": {},
   "outputs": [],
   "source": []
  },
  {
   "cell_type": "code",
   "execution_count": null,
   "metadata": {},
   "outputs": [],
   "source": []
  },
  {
   "cell_type": "markdown",
   "metadata": {},
   "source": [
    "### Caculate return"
   ]
  },
  {
   "cell_type": "code",
   "execution_count": null,
   "metadata": {},
   "outputs": [],
   "source": [
    "portfolio_price = pd.DataFrame(columns = [\"Year\", \"Symbol\", \"Start\", \"End\", \"Return\"])\n",
    "for i in range(len(filter_stock)):\n",
    "    year = filter_stock.loc[i, \"Year\"]\n",
    "    price = prices[year]\n",
    "    portfolio = filter_stock.loc[i, \"Portfolio\"]\n",
    "    # print(f\"price length = {len(price)}\")\n",
    "\n",
    "    # 抓出篩選出的股票\n",
    "    price = price.query(\"(Symbol in @portfolio) and (Close <= 100)\")\n",
    "    price = price.sort_values([\"Symbol\", \"Date\"]).reset_index(drop = True)\n",
    "    # print(f\"price length = {len(price)}\")\n",
    "\n",
    "    # 計算每檔股票的報酬率\n",
    "    total_return = []\n",
    "    price1 = pd.DataFrame()\n",
    "    g = price.groupby(\"Symbol\")\n",
    "    groups = price[\"Symbol\"].unique()\n",
    "    for group in groups:\n",
    "        df_group = g.get_group(group)\n",
    "        start = df_group[\"Close\"].iloc[0] # 年初\n",
    "        end = df_group[\"Close\"].iloc[-1] # 年底\n",
    "        return_ = round((end - start) / start * 100, 2) # 報酬率\n",
    "        total_return.append(return_)\n",
    "        portfolio_price.loc[len(portfolio_price)] = [year, group, start, end, return_]\n",
    "\n",
    "    filter_stock.loc[i, \"Port_Return\"] = round(np.mean(total_return), 2)\n",
    "\n",
    "    # 加權指數\n",
    "    twii = twiis[year]\n",
    "    twii = twiis[year].sort_values([\"Symbol\", \"Date\"]).reset_index(drop = True)\n",
    "    start = twii[\"Close\"].iloc[0] # 年初\n",
    "    end = twii[\"Close\"].iloc[-1] # 年底\n",
    "    return_twii = round((end - start) / start * 100, 2) # 報酬率\n",
    "    filter_stock.loc[i, \"TWII_Return\"] = return_twii\n",
    "\n",
    "filter_stock = filter_stock[['Year', 'Port_Return', 'TWII_Return', 'Port_Count', 'Portfolio']]"
   ]
  },
  {
   "cell_type": "code",
   "execution_count": null,
   "metadata": {},
   "outputs": [],
   "source": [
    "filter_stock"
   ]
  },
  {
   "cell_type": "code",
   "execution_count": null,
   "metadata": {},
   "outputs": [],
   "source": [
    "writer = pd.ExcelWriter('data/output.xlsx', engine = 'xlsxwriter')\n",
    "filter_stock.to_excel(writer, sheet_name = 'performance', index = False)\n",
    "portfolio_price.to_excel(writer, sheet_name = 'portfolio_price', index = False)\n",
    "writer.close()"
   ]
  },
  {
   "cell_type": "code",
   "execution_count": null,
   "metadata": {},
   "outputs": [],
   "source": []
  }
 ],
 "metadata": {
  "kernelspec": {
   "display_name": ".venv",
   "language": "python",
   "name": "python3"
  },
  "language_info": {
   "codemirror_mode": {
    "name": "ipython",
    "version": 3
   },
   "file_extension": ".py",
   "mimetype": "text/x-python",
   "name": "python",
   "nbconvert_exporter": "python",
   "pygments_lexer": "ipython3",
   "version": "3.8.10"
  },
  "orig_nbformat": 4
 },
 "nbformat": 4,
 "nbformat_minor": 2
}
